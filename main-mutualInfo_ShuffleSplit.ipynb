{
 "cells": [
  {
   "cell_type": "code",
   "execution_count": 107,
   "id": "c5e92e93",
   "metadata": {},
   "outputs": [],
   "source": [
    "# 0 = No\n",
    "# 1 = Yes"
   ]
  },
  {
   "cell_type": "code",
   "execution_count": 108,
   "id": "c27ca122",
   "metadata": {},
   "outputs": [],
   "source": [
    "import pandas as pd\n",
    "import numpy as np\n",
    "\n",
    "import matplotlib.pyplot as plt\n",
    "import seaborn as sb\n",
    "from sklearn.feature_selection import mutual_info_classif\n",
    "from sklearn.model_selection import train_test_split\n",
    "\n",
    "from sklearn.linear_model import LogisticRegression\n",
    "from sklearn.naive_bayes import GaussianNB\n",
    "from sklearn.tree import DecisionTreeClassifier\n",
    "from sklearn.ensemble import RandomForestClassifier\n",
    "from sklearn.svm import SVC\n",
    "from sklearn.naive_bayes import MultinomialNB\n",
    "from sklearn.neural_network import MLPClassifier\n",
    "from sklearn.svm import LinearSVC\n",
    "from sklearn.neighbors import KNeighborsClassifier\n",
    "from sklearn.ensemble import GradientBoostingClassifier\n",
    "from sklearn.ensemble import ExtraTreesClassifier\n",
    "from sklearn.naive_bayes import BernoulliNB\n",
    "from sklearn.ensemble import AdaBoostClassifier\n",
    "\n",
    "from sklearn.metrics import accuracy_score\n",
    "\n",
    "from sklearn import preprocessing"
   ]
  },
  {
   "cell_type": "code",
   "execution_count": 109,
   "id": "5ac79191",
   "metadata": {},
   "outputs": [],
   "source": [
    "data = pd.read_csv('PCOS_Final_Data.csv')"
   ]
  },
  {
   "cell_type": "code",
   "execution_count": 110,
   "id": "a7e75f87",
   "metadata": {},
   "outputs": [
    {
     "name": "stdout",
     "output_type": "stream",
     "text": [
      "<class 'pandas.core.frame.DataFrame'>\n",
      "RangeIndex: 541 entries, 0 to 540\n",
      "Data columns (total 45 columns):\n",
      " #   Column                  Non-Null Count  Dtype  \n",
      "---  ------                  --------------  -----  \n",
      " 0   Unnamed: 0              541 non-null    int64  \n",
      " 1   Sl. No                  541 non-null    int64  \n",
      " 2   Patient File No.        541 non-null    int64  \n",
      " 3   PCOS (Y/N)              541 non-null    int64  \n",
      " 4    Age (yrs)              541 non-null    int64  \n",
      " 5   Weight (Kg)             541 non-null    float64\n",
      " 6   Height(Cm)              541 non-null    float64\n",
      " 7   BMI                     541 non-null    float64\n",
      " 8   Blood Group             541 non-null    int64  \n",
      " 9   Pulse rate(bpm)         541 non-null    int64  \n",
      " 10  RR (breaths/min)        541 non-null    int64  \n",
      " 11  Hb(g/dl)                541 non-null    float64\n",
      " 12  Cycle(R/I)              541 non-null    int64  \n",
      " 13  Cycle length(days)      541 non-null    int64  \n",
      " 14  Marraige Status (Yrs)   541 non-null    float64\n",
      " 15  Pregnant(Y/N)           541 non-null    int64  \n",
      " 16  No. of aborptions       541 non-null    int64  \n",
      " 17  FSH(mIU/mL)             541 non-null    float64\n",
      " 18  LH(mIU/mL)              541 non-null    float64\n",
      " 19  FSH/LH                  541 non-null    float64\n",
      " 20  Hip(inch)               541 non-null    int64  \n",
      " 21  Waist(inch)             541 non-null    int64  \n",
      " 22  Waist:Hip Ratio         541 non-null    float64\n",
      " 23  TSH (mIU/L)             541 non-null    float64\n",
      " 24  AMH(ng/mL)              541 non-null    float64\n",
      " 25  PRL(ng/mL)              541 non-null    float64\n",
      " 26  Vit D3 (ng/mL)          541 non-null    float64\n",
      " 27  PRG(ng/mL)              541 non-null    float64\n",
      " 28  RBS(mg/dl)              541 non-null    float64\n",
      " 29  Weight gain(Y/N)        541 non-null    int64  \n",
      " 30  hair growth(Y/N)        541 non-null    int64  \n",
      " 31  Skin darkening (Y/N)    541 non-null    int64  \n",
      " 32  Hair loss(Y/N)          541 non-null    int64  \n",
      " 33  Pimples(Y/N)            541 non-null    int64  \n",
      " 34  Fast food (Y/N)         541 non-null    int64  \n",
      " 35  Reg.Exercise(Y/N)       541 non-null    int64  \n",
      " 36  BP _Systolic (mmHg)     541 non-null    int64  \n",
      " 37  BP _Diastolic (mmHg)    541 non-null    int64  \n",
      " 38  Follicle No. (L)        541 non-null    int64  \n",
      " 39  Follicle No. (R)        541 non-null    int64  \n",
      " 40  Avg. F size (L) (mm)    541 non-null    float64\n",
      " 41  Avg. F size (R) (mm)    541 non-null    float64\n",
      " 42  Endometrium (mm)        541 non-null    float64\n",
      " 43    I   beta-HCG(mIU/mL)  541 non-null    float64\n",
      " 44  II    beta-HCG(mIU/mL)  541 non-null    float64\n",
      "dtypes: float64(20), int64(25)\n",
      "memory usage: 190.3 KB\n"
     ]
    }
   ],
   "source": [
    "data.info()"
   ]
  },
  {
   "cell_type": "code",
   "execution_count": 111,
   "id": "ccfeda5a",
   "metadata": {},
   "outputs": [],
   "source": [
    "#There is a column without name,So, first naming it.\n",
    "data = data.rename(columns={'Unnamed: 0': 'index'})"
   ]
  },
  {
   "cell_type": "code",
   "execution_count": 112,
   "id": "b5509e85",
   "metadata": {},
   "outputs": [
    {
     "name": "stdout",
     "output_type": "stream",
     "text": [
      "<class 'pandas.core.frame.DataFrame'>\n",
      "RangeIndex: 541 entries, 0 to 540\n",
      "Data columns (total 45 columns):\n",
      " #   Column                  Non-Null Count  Dtype  \n",
      "---  ------                  --------------  -----  \n",
      " 0   index                   541 non-null    int64  \n",
      " 1   Sl. No                  541 non-null    int64  \n",
      " 2   Patient File No.        541 non-null    int64  \n",
      " 3   PCOS (Y/N)              541 non-null    int64  \n",
      " 4    Age (yrs)              541 non-null    int64  \n",
      " 5   Weight (Kg)             541 non-null    float64\n",
      " 6   Height(Cm)              541 non-null    float64\n",
      " 7   BMI                     541 non-null    float64\n",
      " 8   Blood Group             541 non-null    int64  \n",
      " 9   Pulse rate(bpm)         541 non-null    int64  \n",
      " 10  RR (breaths/min)        541 non-null    int64  \n",
      " 11  Hb(g/dl)                541 non-null    float64\n",
      " 12  Cycle(R/I)              541 non-null    int64  \n",
      " 13  Cycle length(days)      541 non-null    int64  \n",
      " 14  Marraige Status (Yrs)   541 non-null    float64\n",
      " 15  Pregnant(Y/N)           541 non-null    int64  \n",
      " 16  No. of aborptions       541 non-null    int64  \n",
      " 17  FSH(mIU/mL)             541 non-null    float64\n",
      " 18  LH(mIU/mL)              541 non-null    float64\n",
      " 19  FSH/LH                  541 non-null    float64\n",
      " 20  Hip(inch)               541 non-null    int64  \n",
      " 21  Waist(inch)             541 non-null    int64  \n",
      " 22  Waist:Hip Ratio         541 non-null    float64\n",
      " 23  TSH (mIU/L)             541 non-null    float64\n",
      " 24  AMH(ng/mL)              541 non-null    float64\n",
      " 25  PRL(ng/mL)              541 non-null    float64\n",
      " 26  Vit D3 (ng/mL)          541 non-null    float64\n",
      " 27  PRG(ng/mL)              541 non-null    float64\n",
      " 28  RBS(mg/dl)              541 non-null    float64\n",
      " 29  Weight gain(Y/N)        541 non-null    int64  \n",
      " 30  hair growth(Y/N)        541 non-null    int64  \n",
      " 31  Skin darkening (Y/N)    541 non-null    int64  \n",
      " 32  Hair loss(Y/N)          541 non-null    int64  \n",
      " 33  Pimples(Y/N)            541 non-null    int64  \n",
      " 34  Fast food (Y/N)         541 non-null    int64  \n",
      " 35  Reg.Exercise(Y/N)       541 non-null    int64  \n",
      " 36  BP _Systolic (mmHg)     541 non-null    int64  \n",
      " 37  BP _Diastolic (mmHg)    541 non-null    int64  \n",
      " 38  Follicle No. (L)        541 non-null    int64  \n",
      " 39  Follicle No. (R)        541 non-null    int64  \n",
      " 40  Avg. F size (L) (mm)    541 non-null    float64\n",
      " 41  Avg. F size (R) (mm)    541 non-null    float64\n",
      " 42  Endometrium (mm)        541 non-null    float64\n",
      " 43    I   beta-HCG(mIU/mL)  541 non-null    float64\n",
      " 44  II    beta-HCG(mIU/mL)  541 non-null    float64\n",
      "dtypes: float64(20), int64(25)\n",
      "memory usage: 190.3 KB\n"
     ]
    }
   ],
   "source": [
    "data.info()"
   ]
  },
  {
   "cell_type": "code",
   "execution_count": 113,
   "id": "c3a24577",
   "metadata": {},
   "outputs": [],
   "source": [
    "#Droping the columns which are not related to the output\n",
    "data = data.drop(['index','Sl. No','Patient File No.'],axis=1)"
   ]
  },
  {
   "cell_type": "code",
   "execution_count": 114,
   "id": "7b49c1b4",
   "metadata": {},
   "outputs": [
    {
     "name": "stdout",
     "output_type": "stream",
     "text": [
      "<class 'pandas.core.frame.DataFrame'>\n",
      "RangeIndex: 541 entries, 0 to 540\n",
      "Data columns (total 42 columns):\n",
      " #   Column                  Non-Null Count  Dtype  \n",
      "---  ------                  --------------  -----  \n",
      " 0   PCOS (Y/N)              541 non-null    int64  \n",
      " 1    Age (yrs)              541 non-null    int64  \n",
      " 2   Weight (Kg)             541 non-null    float64\n",
      " 3   Height(Cm)              541 non-null    float64\n",
      " 4   BMI                     541 non-null    float64\n",
      " 5   Blood Group             541 non-null    int64  \n",
      " 6   Pulse rate(bpm)         541 non-null    int64  \n",
      " 7   RR (breaths/min)        541 non-null    int64  \n",
      " 8   Hb(g/dl)                541 non-null    float64\n",
      " 9   Cycle(R/I)              541 non-null    int64  \n",
      " 10  Cycle length(days)      541 non-null    int64  \n",
      " 11  Marraige Status (Yrs)   541 non-null    float64\n",
      " 12  Pregnant(Y/N)           541 non-null    int64  \n",
      " 13  No. of aborptions       541 non-null    int64  \n",
      " 14  FSH(mIU/mL)             541 non-null    float64\n",
      " 15  LH(mIU/mL)              541 non-null    float64\n",
      " 16  FSH/LH                  541 non-null    float64\n",
      " 17  Hip(inch)               541 non-null    int64  \n",
      " 18  Waist(inch)             541 non-null    int64  \n",
      " 19  Waist:Hip Ratio         541 non-null    float64\n",
      " 20  TSH (mIU/L)             541 non-null    float64\n",
      " 21  AMH(ng/mL)              541 non-null    float64\n",
      " 22  PRL(ng/mL)              541 non-null    float64\n",
      " 23  Vit D3 (ng/mL)          541 non-null    float64\n",
      " 24  PRG(ng/mL)              541 non-null    float64\n",
      " 25  RBS(mg/dl)              541 non-null    float64\n",
      " 26  Weight gain(Y/N)        541 non-null    int64  \n",
      " 27  hair growth(Y/N)        541 non-null    int64  \n",
      " 28  Skin darkening (Y/N)    541 non-null    int64  \n",
      " 29  Hair loss(Y/N)          541 non-null    int64  \n",
      " 30  Pimples(Y/N)            541 non-null    int64  \n",
      " 31  Fast food (Y/N)         541 non-null    int64  \n",
      " 32  Reg.Exercise(Y/N)       541 non-null    int64  \n",
      " 33  BP _Systolic (mmHg)     541 non-null    int64  \n",
      " 34  BP _Diastolic (mmHg)    541 non-null    int64  \n",
      " 35  Follicle No. (L)        541 non-null    int64  \n",
      " 36  Follicle No. (R)        541 non-null    int64  \n",
      " 37  Avg. F size (L) (mm)    541 non-null    float64\n",
      " 38  Avg. F size (R) (mm)    541 non-null    float64\n",
      " 39  Endometrium (mm)        541 non-null    float64\n",
      " 40    I   beta-HCG(mIU/mL)  541 non-null    float64\n",
      " 41  II    beta-HCG(mIU/mL)  541 non-null    float64\n",
      "dtypes: float64(20), int64(22)\n",
      "memory usage: 177.6 KB\n"
     ]
    }
   ],
   "source": [
    "data.info()"
   ]
  },
  {
   "cell_type": "code",
   "execution_count": 115,
   "id": "0dc2b960",
   "metadata": {},
   "outputs": [],
   "source": [
    "# Separate the features (X) and the target variable (y)\n",
    "x = data.drop(columns='PCOS (Y/N)')  \n",
    "y = data['PCOS (Y/N)']  "
   ]
  },
  {
   "cell_type": "markdown",
   "id": "599719cb",
   "metadata": {},
   "source": [
    "# Applying Mutual info for finding better features from the dataset"
   ]
  },
  {
   "cell_type": "code",
   "execution_count": 116,
   "id": "4a29de8f",
   "metadata": {},
   "outputs": [],
   "source": [
    "# Compute mutual information between each feature and the target variable\n",
    "mutual_info = mutual_info_classif(x,y)"
   ]
  },
  {
   "cell_type": "code",
   "execution_count": 117,
   "id": "28592e8e",
   "metadata": {},
   "outputs": [
    {
     "data": {
      "text/plain": [
       "Follicle No. (R)          0.222598\n",
       "Follicle No. (L)          0.181507\n",
       "Weight gain(Y/N)          0.098684\n",
       "hair growth(Y/N)          0.096402\n",
       "Skin darkening (Y/N)      0.087025\n",
       "Fast food (Y/N)           0.083927\n",
       "Waist:Hip Ratio           0.076196\n",
       "Cycle length(days)        0.067480\n",
       "FSH/LH                    0.065468\n",
       "AMH(ng/mL)                0.062880\n",
       "PRL(ng/mL)                0.062439\n",
       "Cycle(R/I)                0.059915\n",
       "Pimples(Y/N)              0.057654\n",
       "Weight (Kg)               0.045448\n",
       "TSH (mIU/L)               0.037833\n",
       "Pregnant(Y/N)             0.034569\n",
       "FSH(mIU/mL)               0.034002\n",
       "Waist(inch)               0.032362\n",
       "LH(mIU/mL)                0.031217\n",
       "Endometrium (mm)          0.031035\n",
       " Age (yrs)                0.029011\n",
       "Pulse rate(bpm)           0.023043\n",
       "Avg. F size (L) (mm)      0.022269\n",
       "Hair loss(Y/N)            0.021355\n",
       "BMI                       0.018322\n",
       "Vit D3 (ng/mL)            0.013763\n",
       "Hip(inch)                 0.012686\n",
       "Marraige Status (Yrs)     0.009332\n",
       "RR (breaths/min)          0.009220\n",
       "Blood Group               0.008404\n",
       "RBS(mg/dl)                0.006209\n",
       "BP _Diastolic (mmHg)      0.004137\n",
       "  I   beta-HCG(mIU/mL)    0.003729\n",
       "Reg.Exercise(Y/N)         0.000407\n",
       "BP _Systolic (mmHg)       0.000000\n",
       "Hb(g/dl)                  0.000000\n",
       "No. of aborptions         0.000000\n",
       "Avg. F size (R) (mm)      0.000000\n",
       "Height(Cm)                0.000000\n",
       "PRG(ng/mL)                0.000000\n",
       "II    beta-HCG(mIU/mL)    0.000000\n",
       "dtype: float64"
      ]
     },
     "execution_count": 117,
     "metadata": {},
     "output_type": "execute_result"
    }
   ],
   "source": [
    "# Create a DataFrame to store feature names and their corresponding mutual information scores\n",
    "mi_scores = pd.Series(mutual_info, index=x.columns).sort_values(ascending=False)\n",
    "\n",
    "# Print the mutual information scores for each feature\n",
    "mi_scores"
   ]
  },
  {
   "cell_type": "code",
   "execution_count": 118,
   "id": "f7181aa0",
   "metadata": {},
   "outputs": [
    {
     "name": "stderr",
     "output_type": "stream",
     "text": [
      "C:\\Users\\ashik\\AppData\\Local\\Temp\\ipykernel_8008\\3412163528.py:3: SettingWithCopyWarning: \n",
      "A value is trying to be set on a copy of a slice from a DataFrame.\n",
      "Try using .loc[row_indexer,col_indexer] = value instead\n",
      "\n",
      "See the caveats in the documentation: https://pandas.pydata.org/pandas-docs/stable/user_guide/indexing.html#returning-a-view-versus-a-copy\n",
      "  X['PCOS (Y/N)'] = y\n"
     ]
    }
   ],
   "source": [
    "top_10_features = mi_scores.index[:12]\n",
    "X = x[top_10_features]\n",
    "X['PCOS (Y/N)'] = y"
   ]
  },
  {
   "cell_type": "code",
   "execution_count": 119,
   "id": "6d940e3e",
   "metadata": {},
   "outputs": [
    {
     "data": {
      "text/html": [
       "<div>\n",
       "<style scoped>\n",
       "    .dataframe tbody tr th:only-of-type {\n",
       "        vertical-align: middle;\n",
       "    }\n",
       "\n",
       "    .dataframe tbody tr th {\n",
       "        vertical-align: top;\n",
       "    }\n",
       "\n",
       "    .dataframe thead th {\n",
       "        text-align: right;\n",
       "    }\n",
       "</style>\n",
       "<table border=\"1\" class=\"dataframe\">\n",
       "  <thead>\n",
       "    <tr style=\"text-align: right;\">\n",
       "      <th></th>\n",
       "      <th>Follicle No. (R)</th>\n",
       "      <th>Follicle No. (L)</th>\n",
       "      <th>Weight gain(Y/N)</th>\n",
       "      <th>hair growth(Y/N)</th>\n",
       "      <th>Skin darkening (Y/N)</th>\n",
       "      <th>Fast food (Y/N)</th>\n",
       "      <th>Waist:Hip Ratio</th>\n",
       "      <th>Cycle length(days)</th>\n",
       "      <th>FSH/LH</th>\n",
       "      <th>AMH(ng/mL)</th>\n",
       "      <th>PRL(ng/mL)</th>\n",
       "      <th>Cycle(R/I)</th>\n",
       "      <th>PCOS (Y/N)</th>\n",
       "    </tr>\n",
       "  </thead>\n",
       "  <tbody>\n",
       "    <tr>\n",
       "      <th>0</th>\n",
       "      <td>3</td>\n",
       "      <td>3</td>\n",
       "      <td>0</td>\n",
       "      <td>0</td>\n",
       "      <td>0</td>\n",
       "      <td>1</td>\n",
       "      <td>0.833333</td>\n",
       "      <td>5</td>\n",
       "      <td>2.160326</td>\n",
       "      <td>2.07</td>\n",
       "      <td>45.16</td>\n",
       "      <td>2</td>\n",
       "      <td>0</td>\n",
       "    </tr>\n",
       "    <tr>\n",
       "      <th>1</th>\n",
       "      <td>5</td>\n",
       "      <td>3</td>\n",
       "      <td>0</td>\n",
       "      <td>0</td>\n",
       "      <td>0</td>\n",
       "      <td>0</td>\n",
       "      <td>0.842105</td>\n",
       "      <td>5</td>\n",
       "      <td>6.174312</td>\n",
       "      <td>1.53</td>\n",
       "      <td>20.09</td>\n",
       "      <td>2</td>\n",
       "      <td>0</td>\n",
       "    </tr>\n",
       "    <tr>\n",
       "      <th>2</th>\n",
       "      <td>15</td>\n",
       "      <td>13</td>\n",
       "      <td>0</td>\n",
       "      <td>0</td>\n",
       "      <td>0</td>\n",
       "      <td>1</td>\n",
       "      <td>0.900000</td>\n",
       "      <td>5</td>\n",
       "      <td>6.295455</td>\n",
       "      <td>6.63</td>\n",
       "      <td>10.52</td>\n",
       "      <td>2</td>\n",
       "      <td>1</td>\n",
       "    </tr>\n",
       "    <tr>\n",
       "      <th>3</th>\n",
       "      <td>2</td>\n",
       "      <td>2</td>\n",
       "      <td>0</td>\n",
       "      <td>0</td>\n",
       "      <td>0</td>\n",
       "      <td>0</td>\n",
       "      <td>0.857143</td>\n",
       "      <td>5</td>\n",
       "      <td>3.415254</td>\n",
       "      <td>1.22</td>\n",
       "      <td>36.90</td>\n",
       "      <td>2</td>\n",
       "      <td>0</td>\n",
       "    </tr>\n",
       "    <tr>\n",
       "      <th>4</th>\n",
       "      <td>4</td>\n",
       "      <td>3</td>\n",
       "      <td>0</td>\n",
       "      <td>0</td>\n",
       "      <td>0</td>\n",
       "      <td>0</td>\n",
       "      <td>0.810811</td>\n",
       "      <td>5</td>\n",
       "      <td>4.422222</td>\n",
       "      <td>2.26</td>\n",
       "      <td>30.09</td>\n",
       "      <td>2</td>\n",
       "      <td>0</td>\n",
       "    </tr>\n",
       "  </tbody>\n",
       "</table>\n",
       "</div>"
      ],
      "text/plain": [
       "   Follicle No. (R)  Follicle No. (L)  Weight gain(Y/N)  hair growth(Y/N)  \\\n",
       "0                 3                 3                 0                 0   \n",
       "1                 5                 3                 0                 0   \n",
       "2                15                13                 0                 0   \n",
       "3                 2                 2                 0                 0   \n",
       "4                 4                 3                 0                 0   \n",
       "\n",
       "   Skin darkening (Y/N)  Fast food (Y/N)  Waist:Hip Ratio  Cycle length(days)  \\\n",
       "0                     0                1         0.833333                   5   \n",
       "1                     0                0         0.842105                   5   \n",
       "2                     0                1         0.900000                   5   \n",
       "3                     0                0         0.857143                   5   \n",
       "4                     0                0         0.810811                   5   \n",
       "\n",
       "     FSH/LH  AMH(ng/mL)  PRL(ng/mL)  Cycle(R/I)  PCOS (Y/N)  \n",
       "0  2.160326        2.07       45.16           2           0  \n",
       "1  6.174312        1.53       20.09           2           0  \n",
       "2  6.295455        6.63       10.52           2           1  \n",
       "3  3.415254        1.22       36.90           2           0  \n",
       "4  4.422222        2.26       30.09           2           0  "
      ]
     },
     "execution_count": 119,
     "metadata": {},
     "output_type": "execute_result"
    }
   ],
   "source": [
    "X.head()"
   ]
  },
  {
   "cell_type": "code",
   "execution_count": 120,
   "id": "b0884207",
   "metadata": {},
   "outputs": [],
   "source": [
    "from sklearn.model_selection import StratifiedShuffleSplit\n",
    "split = StratifiedShuffleSplit(n_splits=1, test_size=0.2)\n",
    "for train_part, test_part in split.split(X, X[['PCOS (Y/N)']]):\n",
    "    train_set = data.loc[train_part]\n",
    "    test_set = data.loc[test_part]"
   ]
  },
  {
   "cell_type": "code",
   "execution_count": 121,
   "id": "70da533a",
   "metadata": {},
   "outputs": [],
   "source": [
    "X_train = train_set.drop(columns='PCOS (Y/N)')  \n",
    "y_train = train_set['PCOS (Y/N)'] \n",
    "X_test = test_set.drop(columns='PCOS (Y/N)')\n",
    "y_test = test_set['PCOS (Y/N)']"
   ]
  },
  {
   "cell_type": "code",
   "execution_count": 122,
   "id": "16705833",
   "metadata": {},
   "outputs": [],
   "source": [
    "# Standard Scaler applying for better prediction\n",
    "x_train = preprocessing.StandardScaler().fit_transform(X_train)\n",
    "x_test = preprocessing.StandardScaler().fit_transform(X_test)"
   ]
  },
  {
   "cell_type": "markdown",
   "id": "8541b688",
   "metadata": {},
   "source": [
    "# Applying Machine Learning Models"
   ]
  },
  {
   "cell_type": "code",
   "execution_count": 123,
   "id": "54ee679b",
   "metadata": {},
   "outputs": [
    {
     "name": "stdout",
     "output_type": "stream",
     "text": [
      "Accuracy: 0.8348623853211009\n"
     ]
    },
    {
     "name": "stderr",
     "output_type": "stream",
     "text": [
      "C:\\ProgramData\\Anaconda3\\lib\\site-packages\\sklearn\\linear_model\\_logistic.py:814: ConvergenceWarning: lbfgs failed to converge (status=1):\n",
      "STOP: TOTAL NO. of ITERATIONS REACHED LIMIT.\n",
      "\n",
      "Increase the number of iterations (max_iter) or scale the data as shown in:\n",
      "    https://scikit-learn.org/stable/modules/preprocessing.html\n",
      "Please also refer to the documentation for alternative solver options:\n",
      "    https://scikit-learn.org/stable/modules/linear_model.html#logistic-regression\n",
      "  n_iter_i = _check_optimize_result(\n"
     ]
    }
   ],
   "source": [
    "model1 = LogisticRegression(random_state=0)\n",
    "\n",
    "model1.fit(X_train, y_train)\n",
    "\n",
    "\n",
    "y_pred = model1.predict(X_test)\n",
    "\n",
    "\n",
    "LogisticRegression = accuracy_score(y_test, y_pred)\n",
    "print(\"Accuracy:\", LogisticRegression)"
   ]
  },
  {
   "cell_type": "code",
   "execution_count": 124,
   "id": "de0e77d5",
   "metadata": {},
   "outputs": [
    {
     "name": "stdout",
     "output_type": "stream",
     "text": [
      "Accuracy: 83.4862385321101\n"
     ]
    }
   ],
   "source": [
    "model2 = GaussianNB()\n",
    "\n",
    "\n",
    "model2.fit(X_train, y_train)\n",
    "\n",
    "\n",
    "y_pred = model2.predict(X_test)\n",
    "\n",
    "\n",
    "GaussianNB = accuracy_score(y_test, y_pred)\n",
    "print(\"Accuracy:\", GaussianNB*100)"
   ]
  },
  {
   "cell_type": "code",
   "execution_count": 125,
   "id": "1f26d2c2",
   "metadata": {},
   "outputs": [
    {
     "name": "stdout",
     "output_type": "stream",
     "text": [
      "Accuracy: 75.22935779816514\n"
     ]
    }
   ],
   "source": [
    "model3 = DecisionTreeClassifier()\n",
    "\n",
    "\n",
    "model3.fit(X_train, y_train)\n",
    "\n",
    "\n",
    "y_pred = model3.predict(X_test)\n",
    "\n",
    "\n",
    "DecisionTreeClassifier = accuracy_score(y_test, y_pred)\n",
    "print(\"Accuracy:\", DecisionTreeClassifier*100)"
   ]
  },
  {
   "cell_type": "code",
   "execution_count": 126,
   "id": "d925a31f",
   "metadata": {},
   "outputs": [
    {
     "name": "stdout",
     "output_type": "stream",
     "text": [
      "Accuracy: 88.9908256880734\n"
     ]
    }
   ],
   "source": [
    "model4 = RandomForestClassifier()\n",
    "\n",
    "\n",
    "model4.fit(X_train, y_train)\n",
    "\n",
    "\n",
    "y_pred = model4.predict(X_test)\n",
    "\n",
    "\n",
    "RandomForestClassifier = accuracy_score(y_test, y_pred)\n",
    "print(\"Accuracy:\", RandomForestClassifier*100)"
   ]
  },
  {
   "cell_type": "code",
   "execution_count": 127,
   "id": "aa066e80",
   "metadata": {},
   "outputs": [
    {
     "name": "stdout",
     "output_type": "stream",
     "text": [
      "Accuracy: 0.6697247706422018\n"
     ]
    }
   ],
   "source": [
    "model5 = SVC()\n",
    "\n",
    "\n",
    "model5.fit(X_train, y_train)\n",
    "\n",
    "\n",
    "y_pred = model5.predict(X_test)\n",
    "\n",
    "\n",
    "SVC = accuracy_score(y_test, y_pred*100)\n",
    "print(\"Accuracy:\", SVC)"
   ]
  },
  {
   "cell_type": "code",
   "execution_count": 128,
   "id": "d9c46e75",
   "metadata": {},
   "outputs": [
    {
     "name": "stdout",
     "output_type": "stream",
     "text": [
      "Accuracy: 0.5229357798165137\n"
     ]
    }
   ],
   "source": [
    "model5 = MultinomialNB()\n",
    "\n",
    "\n",
    "model5.fit(X_train, y_train)\n",
    "\n",
    "\n",
    "y_pred = model5.predict(X_test)\n",
    "\n",
    "\n",
    "MultinomialNB = accuracy_score(y_test, y_pred*100)\n",
    "print(\"Accuracy:\", MultinomialNB)"
   ]
  },
  {
   "cell_type": "code",
   "execution_count": 129,
   "id": "eb284e31",
   "metadata": {},
   "outputs": [
    {
     "name": "stdout",
     "output_type": "stream",
     "text": [
      "Accuracy: 0.6146788990825688\n"
     ]
    }
   ],
   "source": [
    "model5 = MLPClassifier(hidden_layer_sizes=(100, 50), max_iter=1000)\n",
    "\n",
    "\n",
    "model5.fit(X_train, y_train)\n",
    "\n",
    "\n",
    "y_pred = model5.predict(X_test)\n",
    "\n",
    "\n",
    "MLPClassifier = accuracy_score(y_test, y_pred*100)\n",
    "print(\"Accuracy:\", MLPClassifier)"
   ]
  },
  {
   "cell_type": "code",
   "execution_count": 130,
   "id": "05706247",
   "metadata": {},
   "outputs": [
    {
     "name": "stdout",
     "output_type": "stream",
     "text": [
      "Accuracy: 0.45871559633027525\n"
     ]
    },
    {
     "name": "stderr",
     "output_type": "stream",
     "text": [
      "C:\\ProgramData\\Anaconda3\\lib\\site-packages\\sklearn\\svm\\_base.py:1206: ConvergenceWarning: Liblinear failed to converge, increase the number of iterations.\n",
      "  warnings.warn(\n"
     ]
    }
   ],
   "source": [
    "model5 = LinearSVC()\n",
    "\n",
    "\n",
    "model5.fit(X_train, y_train)\n",
    "\n",
    "\n",
    "y_pred = model5.predict(X_test)\n",
    "\n",
    "\n",
    "LinearSVC = accuracy_score(y_test, y_pred*100)\n",
    "print(\"Accuracy:\", LinearSVC)"
   ]
  },
  {
   "cell_type": "code",
   "execution_count": 131,
   "id": "512f871a",
   "metadata": {},
   "outputs": [
    {
     "name": "stdout",
     "output_type": "stream",
     "text": [
      "Accuracy: 0.5779816513761468\n"
     ]
    }
   ],
   "source": [
    "model5 = KNeighborsClassifier()\n",
    "\n",
    "\n",
    "model5.fit(X_train, y_train)\n",
    "\n",
    "\n",
    "y_pred = model5.predict(X_test)\n",
    "\n",
    "\n",
    "KNN = accuracy_score(y_test, y_pred*100)\n",
    "print(\"Accuracy:\", KNN)"
   ]
  },
  {
   "cell_type": "code",
   "execution_count": 132,
   "id": "4fe0dcab",
   "metadata": {},
   "outputs": [
    {
     "name": "stdout",
     "output_type": "stream",
     "text": [
      "Accuracy: 85.3211009174312\n"
     ]
    }
   ],
   "source": [
    "model5 = GradientBoostingClassifier()\n",
    "\n",
    "\n",
    "model5.fit(X_train, y_train)\n",
    "\n",
    "\n",
    "y_pred = model5.predict(X_test)\n",
    "\n",
    "\n",
    "GradientBoostingClassifier = accuracy_score(y_test, y_pred)\n",
    "print(\"Accuracy:\", GradientBoostingClassifier*100)"
   ]
  },
  {
   "cell_type": "code",
   "execution_count": 133,
   "id": "548723d3",
   "metadata": {},
   "outputs": [
    {
     "name": "stdout",
     "output_type": "stream",
     "text": [
      "Accuracy: 82.56880733944955\n"
     ]
    }
   ],
   "source": [
    "model5 = ExtraTreesClassifier()\n",
    "\n",
    "\n",
    "model5.fit(X_train, y_train)\n",
    "\n",
    "\n",
    "y_pred = model5.predict(X_test)\n",
    "\n",
    "\n",
    "ExtraTreesClassifier = accuracy_score(y_test, y_pred)\n",
    "print(\"Accuracy:\", ExtraTreesClassifier*100)"
   ]
  },
  {
   "cell_type": "code",
   "execution_count": 134,
   "id": "08cbf098",
   "metadata": {},
   "outputs": [
    {
     "name": "stdout",
     "output_type": "stream",
     "text": [
      "Accuracy: 76.14678899082568\n"
     ]
    }
   ],
   "source": [
    "model5 = BernoulliNB()\n",
    "\n",
    "\n",
    "model5.fit(X_train, y_train)\n",
    "\n",
    "\n",
    "y_pred = model5.predict(X_test)\n",
    "\n",
    "\n",
    "\n",
    "BernoulliNB = accuracy_score(y_test, y_pred)\n",
    "print(\"Accuracy:\", BernoulliNB*100)"
   ]
  },
  {
   "cell_type": "code",
   "execution_count": 135,
   "id": "98fb1aeb",
   "metadata": {},
   "outputs": [
    {
     "name": "stdout",
     "output_type": "stream",
     "text": [
      "Accuracy: 85.3211009174312\n"
     ]
    }
   ],
   "source": [
    "model5 = AdaBoostClassifier()\n",
    "\n",
    "\n",
    "model5.fit(X_train, y_train)\n",
    "\n",
    "\n",
    "y_pred = model5.predict(X_test)\n",
    "\n",
    "\n",
    "AdaBoostClassifier = accuracy_score(y_test, y_pred)\n",
    "print(\"Accuracy:\", AdaBoostClassifier*100)"
   ]
  },
  {
   "cell_type": "markdown",
   "id": "e98146d2",
   "metadata": {},
   "source": [
    "# Accuracy comparison"
   ]
  },
  {
   "cell_type": "code",
   "execution_count": 137,
   "id": "69affcb7",
   "metadata": {},
   "outputs": [
    {
     "data": {
      "image/png": "[encoded data removed]",
      "text/plain": [
       "<Figure size 1440x720 with 1 Axes>"
      ]
     },
     "metadata": {
      "needs_background": "light"
     },
     "output_type": "display_data"
    }
   ],
   "source": [
    "import numpy as np\n",
    "import matplotlib.pyplot as plt\n",
    "\n",
    "models = np.array(['LogisticRegression', 'GaussianNB', 'DecisionTree', 'RandomForest', 'SVC', 'MultinomialNB', 'MLP', 'LinearSVC', 'KNN', 'GradientBoost', 'ExtraTrees', 'BernoulliNB', 'AdaBoost'])\n",
    "accuracy = np.array([LogisticRegression, GaussianNB, DecisionTreeClassifier, RandomForestClassifier, SVC, MultinomialNB, MLPClassifier, LinearSVC, KNN, GradientBoostingClassifier, ExtraTreesClassifier, BernoulliNB, AdaBoostClassifier])\n",
    "\n",
    "plt.figure(figsize=(20, 10))\n",
    "bars = plt.bar(models, accuracy, color='teal', width=0.5)\n",
    "plt.ylim(0.5, 1)\n",
    "plt.grid(True, axis='y')\n",
    "\n",
    "# Add data labels (accuracy values) above each bar\n",
    "for bar, acc in zip(bars, accuracy):\n",
    "    height = bar.get_height()\n",
    "    plt.annotate(f'{acc:.2f}',  # Format accuracy to two decimal places\n",
    "                 xy=(bar.get_x() + bar.get_width() / 2, height),\n",
    "                 xytext=(0, 3),  # Offset label above the bar\n",
    "                 textcoords=\"offset points\",\n",
    "                 ha='center', va='bottom', fontsize=10)\n",
    "\n",
    "plt.show()"
   ]
  }
 ],
 "metadata": {
  "kernelspec": {
   "display_name": "Python 3 (ipykernel)",
   "language": "python",
   "name": "python3"
  },
  "language_info": {
   "codemirror_mode": {
    "name": "ipython",
    "version": 3
   },
   "file_extension": ".py",
   "mimetype": "text/x-python",
   "name": "python",
   "nbconvert_exporter": "python",
   "pygments_lexer": "ipython3",
   "version": "3.9.12"
  }
 },
 "nbformat": 4,
 "nbformat_minor": 5
}
