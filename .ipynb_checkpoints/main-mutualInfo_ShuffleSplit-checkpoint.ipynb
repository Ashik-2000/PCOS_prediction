{
 "cells": [
  {
   "cell_type": "code",
   "execution_count": 36,
   "id": "c5e92e93",
   "metadata": {},
   "outputs": [],
   "source": [
    "# 0 = No\n",
    "# 1 = Yes"
   ]
  },
  {
   "cell_type": "code",
   "execution_count": 37,
   "id": "c27ca122",
   "metadata": {},
   "outputs": [],
   "source": [
    "import pandas as pd\n",
    "import numpy as np\n",
    "\n",
    "import matplotlib.pyplot as plt\n",
    "import seaborn as sb\n",
    "from sklearn.feature_selection import mutual_info_classif\n",
    "from sklearn.model_selection import train_test_split\n",
    "\n",
    "from sklearn.linear_model import LogisticRegression\n",
    "from sklearn.naive_bayes import GaussianNB\n",
    "from sklearn.tree import DecisionTreeClassifier\n",
    "from sklearn.ensemble import RandomForestClassifier\n",
    "from sklearn.svm import SVC\n",
    "from sklearn.naive_bayes import MultinomialNB\n",
    "from sklearn.neural_network import MLPClassifier\n",
    "from sklearn.svm import LinearSVC\n",
    "from sklearn.neighbors import KNeighborsClassifier\n",
    "from sklearn.ensemble import GradientBoostingClassifier\n",
    "from sklearn.ensemble import ExtraTreesClassifier\n",
    "from sklearn.naive_bayes import BernoulliNB\n",
    "from sklearn.ensemble import AdaBoostClassifier\n",
    "\n",
    "from sklearn.metrics import accuracy_score\n",
    "\n",
    "from sklearn import preprocessing"
   ]
  },
  {
   "cell_type": "code",
   "execution_count": 38,
   "id": "5ac79191",
   "metadata": {},
   "outputs": [],
   "source": [
    "data = pd.read_csv('PCOS_Final_Data.csv')"
   ]
  },
  {
   "cell_type": "code",
   "execution_count": 39,
   "id": "a7e75f87",
   "metadata": {},
   "outputs": [
    {
     "name": "stdout",
     "output_type": "stream",
     "text": [
      "<class 'pandas.core.frame.DataFrame'>\n",
      "RangeIndex: 541 entries, 0 to 540\n",
      "Data columns (total 45 columns):\n",
      " #   Column                  Non-Null Count  Dtype  \n",
      "---  ------                  --------------  -----  \n",
      " 0   Unnamed: 0              541 non-null    int64  \n",
      " 1   Sl. No                  541 non-null    int64  \n",
      " 2   Patient File No.        541 non-null    int64  \n",
      " 3   PCOS (Y/N)              541 non-null    int64  \n",
      " 4    Age (yrs)              541 non-null    int64  \n",
      " 5   Weight (Kg)             541 non-null    float64\n",
      " 6   Height(Cm)              541 non-null    float64\n",
      " 7   BMI                     541 non-null    float64\n",
      " 8   Blood Group             541 non-null    int64  \n",
      " 9   Pulse rate(bpm)         541 non-null    int64  \n",
      " 10  RR (breaths/min)        541 non-null    int64  \n",
      " 11  Hb(g/dl)                541 non-null    float64\n",
      " 12  Cycle(R/I)              541 non-null    int64  \n",
      " 13  Cycle length(days)      541 non-null    int64  \n",
      " 14  Marraige Status (Yrs)   541 non-null    float64\n",
      " 15  Pregnant(Y/N)           541 non-null    int64  \n",
      " 16  No. of aborptions       541 non-null    int64  \n",
      " 17  FSH(mIU/mL)             541 non-null    float64\n",
      " 18  LH(mIU/mL)              541 non-null    float64\n",
      " 19  FSH/LH                  541 non-null    float64\n",
      " 20  Hip(inch)               541 non-null    int64  \n",
      " 21  Waist(inch)             541 non-null    int64  \n",
      " 22  Waist:Hip Ratio         541 non-null    float64\n",
      " 23  TSH (mIU/L)             541 non-null    float64\n",
      " 24  AMH(ng/mL)              541 non-null    float64\n",
      " 25  PRL(ng/mL)              541 non-null    float64\n",
      " 26  Vit D3 (ng/mL)          541 non-null    float64\n",
      " 27  PRG(ng/mL)              541 non-null    float64\n",
      " 28  RBS(mg/dl)              541 non-null    float64\n",
      " 29  Weight gain(Y/N)        541 non-null    int64  \n",
      " 30  hair growth(Y/N)        541 non-null    int64  \n",
      " 31  Skin darkening (Y/N)    541 non-null    int64  \n",
      " 32  Hair loss(Y/N)          541 non-null    int64  \n",
      " 33  Pimples(Y/N)            541 non-null    int64  \n",
      " 34  Fast food (Y/N)         541 non-null    int64  \n",
      " 35  Reg.Exercise(Y/N)       541 non-null    int64  \n",
      " 36  BP _Systolic (mmHg)     541 non-null    int64  \n",
      " 37  BP _Diastolic (mmHg)    541 non-null    int64  \n",
      " 38  Follicle No. (L)        541 non-null    int64  \n",
      " 39  Follicle No. (R)        541 non-null    int64  \n",
      " 40  Avg. F size (L) (mm)    541 non-null    float64\n",
      " 41  Avg. F size (R) (mm)    541 non-null    float64\n",
      " 42  Endometrium (mm)        541 non-null    float64\n",
      " 43    I   beta-HCG(mIU/mL)  541 non-null    float64\n",
      " 44  II    beta-HCG(mIU/mL)  541 non-null    float64\n",
      "dtypes: float64(20), int64(25)\n",
      "memory usage: 190.3 KB\n"
     ]
    }
   ],
   "source": [
    "data.info()"
   ]
  },
  {
   "cell_type": "code",
   "execution_count": 40,
   "id": "ccfeda5a",
   "metadata": {},
   "outputs": [],
   "source": [
    "#There is a column without name,So, first naming it.\n",
    "data = data.rename(columns={'Unnamed: 0': 'index'})"
   ]
  },
  {
   "cell_type": "code",
   "execution_count": 41,
   "id": "b5509e85",
   "metadata": {},
   "outputs": [
    {
     "name": "stdout",
     "output_type": "stream",
     "text": [
      "<class 'pandas.core.frame.DataFrame'>\n",
      "RangeIndex: 541 entries, 0 to 540\n",
      "Data columns (total 45 columns):\n",
      " #   Column                  Non-Null Count  Dtype  \n",
      "---  ------                  --------------  -----  \n",
      " 0   index                   541 non-null    int64  \n",
      " 1   Sl. No                  541 non-null    int64  \n",
      " 2   Patient File No.        541 non-null    int64  \n",
      " 3   PCOS (Y/N)              541 non-null    int64  \n",
      " 4    Age (yrs)              541 non-null    int64  \n",
      " 5   Weight (Kg)             541 non-null    float64\n",
      " 6   Height(Cm)              541 non-null    float64\n",
      " 7   BMI                     541 non-null    float64\n",
      " 8   Blood Group             541 non-null    int64  \n",
      " 9   Pulse rate(bpm)         541 non-null    int64  \n",
      " 10  RR (breaths/min)        541 non-null    int64  \n",
      " 11  Hb(g/dl)                541 non-null    float64\n",
      " 12  Cycle(R/I)              541 non-null    int64  \n",
      " 13  Cycle length(days)      541 non-null    int64  \n",
      " 14  Marraige Status (Yrs)   541 non-null    float64\n",
      " 15  Pregnant(Y/N)           541 non-null    int64  \n",
      " 16  No. of aborptions       541 non-null    int64  \n",
      " 17  FSH(mIU/mL)             541 non-null    float64\n",
      " 18  LH(mIU/mL)              541 non-null    float64\n",
      " 19  FSH/LH                  541 non-null    float64\n",
      " 20  Hip(inch)               541 non-null    int64  \n",
      " 21  Waist(inch)             541 non-null    int64  \n",
      " 22  Waist:Hip Ratio         541 non-null    float64\n",
      " 23  TSH (mIU/L)             541 non-null    float64\n",
      " 24  AMH(ng/mL)              541 non-null    float64\n",
      " 25  PRL(ng/mL)              541 non-null    float64\n",
      " 26  Vit D3 (ng/mL)          541 non-null    float64\n",
      " 27  PRG(ng/mL)              541 non-null    float64\n",
      " 28  RBS(mg/dl)              541 non-null    float64\n",
      " 29  Weight gain(Y/N)        541 non-null    int64  \n",
      " 30  hair growth(Y/N)        541 non-null    int64  \n",
      " 31  Skin darkening (Y/N)    541 non-null    int64  \n",
      " 32  Hair loss(Y/N)          541 non-null    int64  \n",
      " 33  Pimples(Y/N)            541 non-null    int64  \n",
      " 34  Fast food (Y/N)         541 non-null    int64  \n",
      " 35  Reg.Exercise(Y/N)       541 non-null    int64  \n",
      " 36  BP _Systolic (mmHg)     541 non-null    int64  \n",
      " 37  BP _Diastolic (mmHg)    541 non-null    int64  \n",
      " 38  Follicle No. (L)        541 non-null    int64  \n",
      " 39  Follicle No. (R)        541 non-null    int64  \n",
      " 40  Avg. F size (L) (mm)    541 non-null    float64\n",
      " 41  Avg. F size (R) (mm)    541 non-null    float64\n",
      " 42  Endometrium (mm)        541 non-null    float64\n",
      " 43    I   beta-HCG(mIU/mL)  541 non-null    float64\n",
      " 44  II    beta-HCG(mIU/mL)  541 non-null    float64\n",
      "dtypes: float64(20), int64(25)\n",
      "memory usage: 190.3 KB\n"
     ]
    }
   ],
   "source": [
    "data.info()"
   ]
  },
  {
   "cell_type": "code",
   "execution_count": 42,
   "id": "c3a24577",
   "metadata": {},
   "outputs": [],
   "source": [
    "#Droping the columns which are not related to the output\n",
    "data = data.drop(['index','Sl. No','Patient File No.'],axis=1)"
   ]
  },
  {
   "cell_type": "code",
   "execution_count": 43,
   "id": "7b49c1b4",
   "metadata": {},
   "outputs": [
    {
     "data": {
      "text/html": [
       "<div>\n",
       "<style scoped>\n",
       "    .dataframe tbody tr th:only-of-type {\n",
       "        vertical-align: middle;\n",
       "    }\n",
       "\n",
       "    .dataframe tbody tr th {\n",
       "        vertical-align: top;\n",
       "    }\n",
       "\n",
       "    .dataframe thead th {\n",
       "        text-align: right;\n",
       "    }\n",
       "</style>\n",
       "<table border=\"1\" class=\"dataframe\">\n",
       "  <thead>\n",
       "    <tr style=\"text-align: right;\">\n",
       "      <th></th>\n",
       "      <th>PCOS (Y/N)</th>\n",
       "      <th>Age (yrs)</th>\n",
       "      <th>Weight (Kg)</th>\n",
       "      <th>Height(Cm)</th>\n",
       "      <th>BMI</th>\n",
       "      <th>Blood Group</th>\n",
       "      <th>Pulse rate(bpm)</th>\n",
       "      <th>RR (breaths/min)</th>\n",
       "      <th>Hb(g/dl)</th>\n",
       "      <th>Cycle(R/I)</th>\n",
       "      <th>...</th>\n",
       "      <th>Reg.Exercise(Y/N)</th>\n",
       "      <th>BP _Systolic (mmHg)</th>\n",
       "      <th>BP _Diastolic (mmHg)</th>\n",
       "      <th>Follicle No. (L)</th>\n",
       "      <th>Follicle No. (R)</th>\n",
       "      <th>Avg. F size (L) (mm)</th>\n",
       "      <th>Avg. F size (R) (mm)</th>\n",
       "      <th>Endometrium (mm)</th>\n",
       "      <th>I   beta-HCG(mIU/mL)</th>\n",
       "      <th>II    beta-HCG(mIU/mL)</th>\n",
       "    </tr>\n",
       "  </thead>\n",
       "  <tbody>\n",
       "    <tr>\n",
       "      <th>0</th>\n",
       "      <td>0</td>\n",
       "      <td>28</td>\n",
       "      <td>44.6</td>\n",
       "      <td>152.0</td>\n",
       "      <td>19.300000</td>\n",
       "      <td>15</td>\n",
       "      <td>78</td>\n",
       "      <td>22</td>\n",
       "      <td>10.48</td>\n",
       "      <td>2</td>\n",
       "      <td>...</td>\n",
       "      <td>0</td>\n",
       "      <td>110</td>\n",
       "      <td>80</td>\n",
       "      <td>3</td>\n",
       "      <td>3</td>\n",
       "      <td>18.0</td>\n",
       "      <td>18.0</td>\n",
       "      <td>8.5</td>\n",
       "      <td>1.99</td>\n",
       "      <td>1.99</td>\n",
       "    </tr>\n",
       "    <tr>\n",
       "      <th>1</th>\n",
       "      <td>0</td>\n",
       "      <td>36</td>\n",
       "      <td>65.0</td>\n",
       "      <td>161.5</td>\n",
       "      <td>24.921163</td>\n",
       "      <td>15</td>\n",
       "      <td>74</td>\n",
       "      <td>20</td>\n",
       "      <td>11.70</td>\n",
       "      <td>2</td>\n",
       "      <td>...</td>\n",
       "      <td>0</td>\n",
       "      <td>120</td>\n",
       "      <td>70</td>\n",
       "      <td>3</td>\n",
       "      <td>5</td>\n",
       "      <td>15.0</td>\n",
       "      <td>14.0</td>\n",
       "      <td>3.7</td>\n",
       "      <td>60.80</td>\n",
       "      <td>1.99</td>\n",
       "    </tr>\n",
       "    <tr>\n",
       "      <th>2</th>\n",
       "      <td>1</td>\n",
       "      <td>33</td>\n",
       "      <td>68.8</td>\n",
       "      <td>165.0</td>\n",
       "      <td>25.270891</td>\n",
       "      <td>11</td>\n",
       "      <td>72</td>\n",
       "      <td>18</td>\n",
       "      <td>11.80</td>\n",
       "      <td>2</td>\n",
       "      <td>...</td>\n",
       "      <td>0</td>\n",
       "      <td>120</td>\n",
       "      <td>80</td>\n",
       "      <td>13</td>\n",
       "      <td>15</td>\n",
       "      <td>18.0</td>\n",
       "      <td>20.0</td>\n",
       "      <td>10.0</td>\n",
       "      <td>494.08</td>\n",
       "      <td>494.08</td>\n",
       "    </tr>\n",
       "    <tr>\n",
       "      <th>3</th>\n",
       "      <td>0</td>\n",
       "      <td>37</td>\n",
       "      <td>65.0</td>\n",
       "      <td>148.0</td>\n",
       "      <td>29.674945</td>\n",
       "      <td>13</td>\n",
       "      <td>72</td>\n",
       "      <td>20</td>\n",
       "      <td>12.00</td>\n",
       "      <td>2</td>\n",
       "      <td>...</td>\n",
       "      <td>0</td>\n",
       "      <td>120</td>\n",
       "      <td>70</td>\n",
       "      <td>2</td>\n",
       "      <td>2</td>\n",
       "      <td>15.0</td>\n",
       "      <td>14.0</td>\n",
       "      <td>7.5</td>\n",
       "      <td>1.99</td>\n",
       "      <td>1.99</td>\n",
       "    </tr>\n",
       "    <tr>\n",
       "      <th>4</th>\n",
       "      <td>0</td>\n",
       "      <td>25</td>\n",
       "      <td>52.0</td>\n",
       "      <td>161.0</td>\n",
       "      <td>20.060954</td>\n",
       "      <td>11</td>\n",
       "      <td>72</td>\n",
       "      <td>18</td>\n",
       "      <td>10.00</td>\n",
       "      <td>2</td>\n",
       "      <td>...</td>\n",
       "      <td>0</td>\n",
       "      <td>120</td>\n",
       "      <td>80</td>\n",
       "      <td>3</td>\n",
       "      <td>4</td>\n",
       "      <td>16.0</td>\n",
       "      <td>14.0</td>\n",
       "      <td>7.0</td>\n",
       "      <td>801.45</td>\n",
       "      <td>801.45</td>\n",
       "    </tr>\n",
       "  </tbody>\n",
       "</table>\n",
       "<p>5 rows × 42 columns</p>\n",
       "</div>"
      ],
      "text/plain": [
       "   PCOS (Y/N)   Age (yrs)  Weight (Kg)  Height(Cm)         BMI  Blood Group  \\\n",
       "0           0          28         44.6        152.0  19.300000           15   \n",
       "1           0          36         65.0        161.5  24.921163           15   \n",
       "2           1          33         68.8        165.0  25.270891           11   \n",
       "3           0          37         65.0        148.0  29.674945           13   \n",
       "4           0          25         52.0        161.0  20.060954           11   \n",
       "\n",
       "   Pulse rate(bpm)   RR (breaths/min)  Hb(g/dl)  Cycle(R/I)  ...  \\\n",
       "0                78                22     10.48           2  ...   \n",
       "1                74                20     11.70           2  ...   \n",
       "2                72                18     11.80           2  ...   \n",
       "3                72                20     12.00           2  ...   \n",
       "4                72                18     10.00           2  ...   \n",
       "\n",
       "   Reg.Exercise(Y/N)  BP _Systolic (mmHg)  BP _Diastolic (mmHg)  \\\n",
       "0                  0                  110                    80   \n",
       "1                  0                  120                    70   \n",
       "2                  0                  120                    80   \n",
       "3                  0                  120                    70   \n",
       "4                  0                  120                    80   \n",
       "\n",
       "   Follicle No. (L)  Follicle No. (R)  Avg. F size (L) (mm)  \\\n",
       "0                 3                 3                  18.0   \n",
       "1                 3                 5                  15.0   \n",
       "2                13                15                  18.0   \n",
       "3                 2                 2                  15.0   \n",
       "4                 3                 4                  16.0   \n",
       "\n",
       "   Avg. F size (R) (mm)  Endometrium (mm)    I   beta-HCG(mIU/mL)  \\\n",
       "0                  18.0               8.5                    1.99   \n",
       "1                  14.0               3.7                   60.80   \n",
       "2                  20.0              10.0                  494.08   \n",
       "3                  14.0               7.5                    1.99   \n",
       "4                  14.0               7.0                  801.45   \n",
       "\n",
       "   II    beta-HCG(mIU/mL)  \n",
       "0                    1.99  \n",
       "1                    1.99  \n",
       "2                  494.08  \n",
       "3                    1.99  \n",
       "4                  801.45  \n",
       "\n",
       "[5 rows x 42 columns]"
      ]
     },
     "execution_count": 43,
     "metadata": {},
     "output_type": "execute_result"
    }
   ],
   "source": [
    "data.head()"
   ]
  },
  {
   "cell_type": "code",
   "execution_count": 44,
   "id": "0dc2b960",
   "metadata": {},
   "outputs": [],
   "source": [
    "# Separate the features (X) and the target variable (y)\n",
    "x = data.drop(columns='PCOS (Y/N)')  \n",
    "y = data['PCOS (Y/N)']  "
   ]
  },
  {
   "cell_type": "markdown",
   "id": "599719cb",
   "metadata": {},
   "source": [
    "# Applying Mutual info for finding better features from the dataset"
   ]
  },
  {
   "cell_type": "code",
   "execution_count": 45,
   "id": "4a29de8f",
   "metadata": {},
   "outputs": [],
   "source": [
    "# Compute mutual information between each feature and the target variable\n",
    "mutual_info = mutual_info_classif(x,y)"
   ]
  },
  {
   "cell_type": "code",
   "execution_count": 46,
   "id": "28592e8e",
   "metadata": {},
   "outputs": [
    {
     "data": {
      "text/plain": [
       "Follicle No. (R)          0.221566\n",
       "Follicle No. (L)          0.186788\n",
       "Weight gain(Y/N)          0.110898\n",
       "Skin darkening (Y/N)      0.104651\n",
       "hair growth(Y/N)          0.101664\n",
       "Fast food (Y/N)           0.080440\n",
       "Cycle(R/I)                0.079818\n",
       "AMH(ng/mL)                0.075199\n",
       "FSH/LH                    0.065231\n",
       "PRL(ng/mL)                0.063289\n",
       "Cycle length(days)        0.058803\n",
       "Pimples(Y/N)              0.049380\n",
       "Waist:Hip Ratio           0.049277\n",
       "Avg. F size (L) (mm)      0.040560\n",
       "Hip(inch)                 0.040510\n",
       "Avg. F size (R) (mm)      0.039848\n",
       " Age (yrs)                0.038927\n",
       "Pulse rate(bpm)           0.038765\n",
       "TSH (mIU/L)               0.034719\n",
       "FSH(mIU/mL)               0.032745\n",
       "LH(mIU/mL)                0.028292\n",
       "BMI                       0.027639\n",
       "Pregnant(Y/N)             0.021694\n",
       "Reg.Exercise(Y/N)         0.020036\n",
       "Weight (Kg)               0.018965\n",
       "  I   beta-HCG(mIU/mL)    0.013136\n",
       "Endometrium (mm)          0.012937\n",
       "Hair loss(Y/N)            0.009299\n",
       "BP _Systolic (mmHg)       0.006270\n",
       "Hb(g/dl)                  0.005634\n",
       "Vit D3 (ng/mL)            0.004932\n",
       "Waist(inch)               0.000764\n",
       "RR (breaths/min)          0.000000\n",
       "BP _Diastolic (mmHg)      0.000000\n",
       "Marraige Status (Yrs)     0.000000\n",
       "Blood Group               0.000000\n",
       "No. of aborptions         0.000000\n",
       "Height(Cm)                0.000000\n",
       "RBS(mg/dl)                0.000000\n",
       "PRG(ng/mL)                0.000000\n",
       "II    beta-HCG(mIU/mL)    0.000000\n",
       "dtype: float64"
      ]
     },
     "execution_count": 46,
     "metadata": {},
     "output_type": "execute_result"
    }
   ],
   "source": [
    "# Create a DataFrame to store feature names and their corresponding mutual information scores\n",
    "mi_scores = pd.Series(mutual_info, index=x.columns).sort_values(ascending=False)\n",
    "\n",
    "# Print the mutual information scores for each feature\n",
    "mi_scores"
   ]
  },
  {
   "cell_type": "code",
   "execution_count": 47,
   "id": "f7181aa0",
   "metadata": {},
   "outputs": [],
   "source": [
    "top_10_features = mi_scores.index[:12]\n",
    "X = x[top_10_features]"
   ]
  },
  {
   "cell_type": "code",
   "execution_count": 48,
   "id": "6d940e3e",
   "metadata": {},
   "outputs": [
    {
     "data": {
      "text/html": [
       "<div>\n",
       "<style scoped>\n",
       "    .dataframe tbody tr th:only-of-type {\n",
       "        vertical-align: middle;\n",
       "    }\n",
       "\n",
       "    .dataframe tbody tr th {\n",
       "        vertical-align: top;\n",
       "    }\n",
       "\n",
       "    .dataframe thead th {\n",
       "        text-align: right;\n",
       "    }\n",
       "</style>\n",
       "<table border=\"1\" class=\"dataframe\">\n",
       "  <thead>\n",
       "    <tr style=\"text-align: right;\">\n",
       "      <th></th>\n",
       "      <th>Follicle No. (R)</th>\n",
       "      <th>Follicle No. (L)</th>\n",
       "      <th>Weight gain(Y/N)</th>\n",
       "      <th>Skin darkening (Y/N)</th>\n",
       "      <th>hair growth(Y/N)</th>\n",
       "      <th>Fast food (Y/N)</th>\n",
       "      <th>Cycle(R/I)</th>\n",
       "      <th>AMH(ng/mL)</th>\n",
       "      <th>FSH/LH</th>\n",
       "      <th>PRL(ng/mL)</th>\n",
       "      <th>Cycle length(days)</th>\n",
       "      <th>Pimples(Y/N)</th>\n",
       "    </tr>\n",
       "  </thead>\n",
       "  <tbody>\n",
       "    <tr>\n",
       "      <th>0</th>\n",
       "      <td>3</td>\n",
       "      <td>3</td>\n",
       "      <td>0</td>\n",
       "      <td>0</td>\n",
       "      <td>0</td>\n",
       "      <td>1</td>\n",
       "      <td>2</td>\n",
       "      <td>2.07</td>\n",
       "      <td>2.160326</td>\n",
       "      <td>45.16</td>\n",
       "      <td>5</td>\n",
       "      <td>0</td>\n",
       "    </tr>\n",
       "    <tr>\n",
       "      <th>1</th>\n",
       "      <td>5</td>\n",
       "      <td>3</td>\n",
       "      <td>0</td>\n",
       "      <td>0</td>\n",
       "      <td>0</td>\n",
       "      <td>0</td>\n",
       "      <td>2</td>\n",
       "      <td>1.53</td>\n",
       "      <td>6.174312</td>\n",
       "      <td>20.09</td>\n",
       "      <td>5</td>\n",
       "      <td>0</td>\n",
       "    </tr>\n",
       "    <tr>\n",
       "      <th>2</th>\n",
       "      <td>15</td>\n",
       "      <td>13</td>\n",
       "      <td>0</td>\n",
       "      <td>0</td>\n",
       "      <td>0</td>\n",
       "      <td>1</td>\n",
       "      <td>2</td>\n",
       "      <td>6.63</td>\n",
       "      <td>6.295455</td>\n",
       "      <td>10.52</td>\n",
       "      <td>5</td>\n",
       "      <td>1</td>\n",
       "    </tr>\n",
       "    <tr>\n",
       "      <th>3</th>\n",
       "      <td>2</td>\n",
       "      <td>2</td>\n",
       "      <td>0</td>\n",
       "      <td>0</td>\n",
       "      <td>0</td>\n",
       "      <td>0</td>\n",
       "      <td>2</td>\n",
       "      <td>1.22</td>\n",
       "      <td>3.415254</td>\n",
       "      <td>36.90</td>\n",
       "      <td>5</td>\n",
       "      <td>0</td>\n",
       "    </tr>\n",
       "    <tr>\n",
       "      <th>4</th>\n",
       "      <td>4</td>\n",
       "      <td>3</td>\n",
       "      <td>0</td>\n",
       "      <td>0</td>\n",
       "      <td>0</td>\n",
       "      <td>0</td>\n",
       "      <td>2</td>\n",
       "      <td>2.26</td>\n",
       "      <td>4.422222</td>\n",
       "      <td>30.09</td>\n",
       "      <td>5</td>\n",
       "      <td>0</td>\n",
       "    </tr>\n",
       "  </tbody>\n",
       "</table>\n",
       "</div>"
      ],
      "text/plain": [
       "   Follicle No. (R)  Follicle No. (L)  Weight gain(Y/N)  Skin darkening (Y/N)  \\\n",
       "0                 3                 3                 0                     0   \n",
       "1                 5                 3                 0                     0   \n",
       "2                15                13                 0                     0   \n",
       "3                 2                 2                 0                     0   \n",
       "4                 4                 3                 0                     0   \n",
       "\n",
       "   hair growth(Y/N)  Fast food (Y/N)  Cycle(R/I)  AMH(ng/mL)    FSH/LH  \\\n",
       "0                 0                1           2        2.07  2.160326   \n",
       "1                 0                0           2        1.53  6.174312   \n",
       "2                 0                1           2        6.63  6.295455   \n",
       "3                 0                0           2        1.22  3.415254   \n",
       "4                 0                0           2        2.26  4.422222   \n",
       "\n",
       "   PRL(ng/mL)  Cycle length(days)  Pimples(Y/N)  \n",
       "0       45.16                   5             0  \n",
       "1       20.09                   5             0  \n",
       "2       10.52                   5             1  \n",
       "3       36.90                   5             0  \n",
       "4       30.09                   5             0  "
      ]
     },
     "execution_count": 48,
     "metadata": {},
     "output_type": "execute_result"
    }
   ],
   "source": [
    "X.head()"
   ]
  },
  {
   "cell_type": "code",
   "execution_count": 49,
   "id": "b0884207",
   "metadata": {},
   "outputs": [],
   "source": [
    "# Splitting the data into training and testing set\n",
    "X_train, X_test, y_train, y_test = train_test_split(X, y, test_size=0.2)"
   ]
  },
  {
   "cell_type": "code",
   "execution_count": 50,
   "id": "16705833",
   "metadata": {},
   "outputs": [],
   "source": [
    "# Standard Scaler applying for better prediction\n",
    "x_train = preprocessing.StandardScaler().fit_transform(X_train)\n",
    "x_test = preprocessing.StandardScaler().fit_transform(X_test)"
   ]
  },
  {
   "cell_type": "markdown",
   "id": "8541b688",
   "metadata": {},
   "source": [
    "# Applying Machine Learning Models"
   ]
  },
  {
   "cell_type": "code",
   "execution_count": 51,
   "id": "54ee679b",
   "metadata": {},
   "outputs": [
    {
     "name": "stdout",
     "output_type": "stream",
     "text": [
      "Accuracy: 0.908256880733945\n"
     ]
    },
    {
     "name": "stderr",
     "output_type": "stream",
     "text": [
      "C:\\ProgramData\\Anaconda3\\lib\\site-packages\\sklearn\\linear_model\\_logistic.py:814: ConvergenceWarning: lbfgs failed to converge (status=1):\n",
      "STOP: TOTAL NO. of ITERATIONS REACHED LIMIT.\n",
      "\n",
      "Increase the number of iterations (max_iter) or scale the data as shown in:\n",
      "    https://scikit-learn.org/stable/modules/preprocessing.html\n",
      "Please also refer to the documentation for alternative solver options:\n",
      "    https://scikit-learn.org/stable/modules/linear_model.html#logistic-regression\n",
      "  n_iter_i = _check_optimize_result(\n"
     ]
    }
   ],
   "source": [
    "model1 = LogisticRegression(random_state=0)\n",
    "\n",
    "model1.fit(X_train, y_train)\n",
    "\n",
    "\n",
    "y_pred = model1.predict(X_test)\n",
    "\n",
    "\n",
    "LogisticRegression = accuracy_score(y_test, y_pred)\n",
    "print(\"Accuracy:\", LogisticRegression)"
   ]
  },
  {
   "cell_type": "code",
   "execution_count": 52,
   "id": "de0e77d5",
   "metadata": {},
   "outputs": [
    {
     "name": "stdout",
     "output_type": "stream",
     "text": [
      "Accuracy: 88.07339449541286\n"
     ]
    }
   ],
   "source": [
    "model2 = GaussianNB()\n",
    "\n",
    "\n",
    "model2.fit(X_train, y_train)\n",
    "\n",
    "\n",
    "y_pred = model2.predict(X_test)\n",
    "\n",
    "\n",
    "GaussianNB = accuracy_score(y_test, y_pred)\n",
    "print(\"Accuracy:\", GaussianNB*100)"
   ]
  },
  {
   "cell_type": "code",
   "execution_count": 53,
   "id": "1f26d2c2",
   "metadata": {},
   "outputs": [
    {
     "name": "stdout",
     "output_type": "stream",
     "text": [
      "Accuracy: 88.07339449541286\n"
     ]
    }
   ],
   "source": [
    "model3 = DecisionTreeClassifier()\n",
    "\n",
    "\n",
    "model3.fit(X_train, y_train)\n",
    "\n",
    "\n",
    "y_pred = model3.predict(X_test)\n",
    "\n",
    "\n",
    "DecisionTreeClassifier = accuracy_score(y_test, y_pred)\n",
    "print(\"Accuracy:\", DecisionTreeClassifier*100)"
   ]
  },
  {
   "cell_type": "code",
   "execution_count": 54,
   "id": "d925a31f",
   "metadata": {},
   "outputs": [
    {
     "name": "stdout",
     "output_type": "stream",
     "text": [
      "Accuracy: 90.82568807339449\n"
     ]
    }
   ],
   "source": [
    "model4 = RandomForestClassifier()\n",
    "\n",
    "\n",
    "model4.fit(X_train, y_train)\n",
    "\n",
    "\n",
    "y_pred = model4.predict(X_test)\n",
    "\n",
    "\n",
    "RandomForestClassifier = accuracy_score(y_test, y_pred)\n",
    "print(\"Accuracy:\", RandomForestClassifier*100)"
   ]
  },
  {
   "cell_type": "code",
   "execution_count": 55,
   "id": "aa066e80",
   "metadata": {},
   "outputs": [
    {
     "name": "stdout",
     "output_type": "stream",
     "text": [
      "Accuracy: 0.6146788990825688\n"
     ]
    }
   ],
   "source": [
    "model5 = SVC()\n",
    "\n",
    "\n",
    "model5.fit(X_train, y_train)\n",
    "\n",
    "\n",
    "y_pred = model5.predict(X_test)\n",
    "\n",
    "\n",
    "SVC = accuracy_score(y_test, y_pred*100)\n",
    "print(\"Accuracy:\", SVC)"
   ]
  },
  {
   "cell_type": "code",
   "execution_count": 56,
   "id": "d9c46e75",
   "metadata": {},
   "outputs": [
    {
     "name": "stdout",
     "output_type": "stream",
     "text": [
      "Accuracy: 0.48623853211009177\n"
     ]
    }
   ],
   "source": [
    "model5 = MultinomialNB()\n",
    "\n",
    "\n",
    "model5.fit(X_train, y_train)\n",
    "\n",
    "\n",
    "y_pred = model5.predict(X_test)\n",
    "\n",
    "\n",
    "MultinomialNB = accuracy_score(y_test, y_pred*100)\n",
    "print(\"Accuracy:\", MultinomialNB)"
   ]
  },
  {
   "cell_type": "code",
   "execution_count": 57,
   "id": "eb284e31",
   "metadata": {},
   "outputs": [
    {
     "name": "stdout",
     "output_type": "stream",
     "text": [
      "Accuracy: 0.5871559633027523\n"
     ]
    }
   ],
   "source": [
    "model5 = MLPClassifier(hidden_layer_sizes=(100, 50), max_iter=1000)\n",
    "\n",
    "\n",
    "model5.fit(X_train, y_train)\n",
    "\n",
    "\n",
    "y_pred = model5.predict(X_test)\n",
    "\n",
    "\n",
    "MLPClassifier = accuracy_score(y_test, y_pred*100)\n",
    "print(\"Accuracy:\", MLPClassifier)"
   ]
  },
  {
   "cell_type": "code",
   "execution_count": 58,
   "id": "05706247",
   "metadata": {},
   "outputs": [
    {
     "name": "stdout",
     "output_type": "stream",
     "text": [
      "Accuracy: 0.6330275229357798\n"
     ]
    },
    {
     "name": "stderr",
     "output_type": "stream",
     "text": [
      "C:\\ProgramData\\Anaconda3\\lib\\site-packages\\sklearn\\svm\\_base.py:1206: ConvergenceWarning: Liblinear failed to converge, increase the number of iterations.\n",
      "  warnings.warn(\n"
     ]
    }
   ],
   "source": [
    "model5 = LinearSVC()\n",
    "\n",
    "\n",
    "model5.fit(X_train, y_train)\n",
    "\n",
    "\n",
    "y_pred = model5.predict(X_test)\n",
    "\n",
    "\n",
    "LinearSVC = accuracy_score(y_test, y_pred*100)\n",
    "print(\"Accuracy:\", LinearSVC)"
   ]
  },
  {
   "cell_type": "code",
   "execution_count": 59,
   "id": "512f871a",
   "metadata": {},
   "outputs": [
    {
     "name": "stdout",
     "output_type": "stream",
     "text": [
      "Accuracy: 0.6330275229357798\n"
     ]
    }
   ],
   "source": [
    "model5 = KNeighborsClassifier()\n",
    "\n",
    "\n",
    "model5.fit(X_train, y_train)\n",
    "\n",
    "\n",
    "y_pred = model5.predict(X_test)\n",
    "\n",
    "\n",
    "KNN = accuracy_score(y_test, y_pred*100)\n",
    "print(\"Accuracy:\", KNN)"
   ]
  },
  {
   "cell_type": "code",
   "execution_count": 60,
   "id": "4fe0dcab",
   "metadata": {},
   "outputs": [
    {
     "name": "stdout",
     "output_type": "stream",
     "text": [
      "Accuracy: 90.82568807339449\n"
     ]
    }
   ],
   "source": [
    "model5 = GradientBoostingClassifier()\n",
    "\n",
    "\n",
    "model5.fit(X_train, y_train)\n",
    "\n",
    "\n",
    "y_pred = model5.predict(X_test)\n",
    "\n",
    "\n",
    "GradientBoostingClassifier = accuracy_score(y_test, y_pred)\n",
    "print(\"Accuracy:\", GradientBoostingClassifier*100)"
   ]
  },
  {
   "cell_type": "code",
   "execution_count": 61,
   "id": "548723d3",
   "metadata": {},
   "outputs": [
    {
     "name": "stdout",
     "output_type": "stream",
     "text": [
      "Accuracy: 88.9908256880734\n"
     ]
    }
   ],
   "source": [
    "model5 = ExtraTreesClassifier()\n",
    "\n",
    "\n",
    "model5.fit(X_train, y_train)\n",
    "\n",
    "\n",
    "y_pred = model5.predict(X_test)\n",
    "\n",
    "\n",
    "ExtraTreesClassifier = accuracy_score(y_test, y_pred)\n",
    "print(\"Accuracy:\", ExtraTreesClassifier*100)"
   ]
  },
  {
   "cell_type": "code",
   "execution_count": 62,
   "id": "08cbf098",
   "metadata": {},
   "outputs": [
    {
     "name": "stdout",
     "output_type": "stream",
     "text": [
      "Accuracy: 81.65137614678899\n"
     ]
    }
   ],
   "source": [
    "model5 = BernoulliNB()\n",
    "\n",
    "\n",
    "model5.fit(X_train, y_train)\n",
    "\n",
    "\n",
    "y_pred = model5.predict(X_test)\n",
    "\n",
    "\n",
    "\n",
    "BernoulliNB = accuracy_score(y_test, y_pred)\n",
    "print(\"Accuracy:\", BernoulliNB*100)"
   ]
  },
  {
   "cell_type": "code",
   "execution_count": 63,
   "id": "98fb1aeb",
   "metadata": {},
   "outputs": [
    {
     "name": "stdout",
     "output_type": "stream",
     "text": [
      "Accuracy: 87.1559633027523\n"
     ]
    }
   ],
   "source": [
    "model5 = AdaBoostClassifier()\n",
    "\n",
    "\n",
    "model5.fit(X_train, y_train)\n",
    "\n",
    "\n",
    "y_pred = model5.predict(X_test)\n",
    "\n",
    "\n",
    "AdaBoostClassifier = accuracy_score(y_test, y_pred)\n",
    "print(\"Accuracy:\", AdaBoostClassifier*100)"
   ]
  },
  {
   "cell_type": "markdown",
   "id": "e98146d2",
   "metadata": {},
   "source": [
    "# Accuracy comparison"
   ]
  },
  {
   "cell_type": "code",
   "execution_count": 64,
   "id": "1b7a7dce",
   "metadata": {},
   "outputs": [
    {
     "data": {
      "image/png": "[encoded data removed]",
      "text/plain": [
       "<Figure size 1440x720 with 1 Axes>"
      ]
     },
     "metadata": {
      "needs_background": "light"
     },
     "output_type": "display_data"
    }
   ],
   "source": [
    "models = np.array(['LogisticRegression','GaussianNB','DecisionTree','RandomForest','SVC','MultimonialNB','MLP','LinearSVC','KNN','GradientBoost','ExtraTrees','BernoulliNB','AdaBoost'])\n",
    "accuracy = np.array([LogisticRegression,GaussianNB,DecisionTreeClassifier,RandomForestClassifier,SVC,MultinomialNB,MLPClassifier,LinearSVC,KNN,GradientBoostingClassifier,ExtraTreesClassifier,BernoulliNB,AdaBoostClassifier])\n",
    "\n",
    "plt.figure(figsize=(20,10))\n",
    "plt.bar(models,accuracy,color = 'teal', width = 0.5)\n",
    "plt.ylim(0.5,1)\n",
    "plt.grid(True, axis='y')\n",
    "plt.show()"
   ]
  }
 ],
 "metadata": {
  "kernelspec": {
   "display_name": "Python 3 (ipykernel)",
   "language": "python",
   "name": "python3"
  },
  "language_info": {
   "codemirror_mode": {
    "name": "ipython",
    "version": 3
   },
   "file_extension": ".py",
   "mimetype": "text/x-python",
   "name": "python",
   "nbconvert_exporter": "python",
   "pygments_lexer": "ipython3",
   "version": "3.9.12"
  }
 },
 "nbformat": 4,
 "nbformat_minor": 5
}
