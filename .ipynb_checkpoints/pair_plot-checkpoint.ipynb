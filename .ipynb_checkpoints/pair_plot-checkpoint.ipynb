{
 "cells": [
  {
   "cell_type": "code",
   "execution_count": 37,
   "id": "c5e92e93",
   "metadata": {},
   "outputs": [],
   "source": [
    "# 0 = No\n",
    "# 1 = Yes"
   ]
  },
  {
   "cell_type": "code",
   "execution_count": 38,
   "id": "c27ca122",
   "metadata": {},
   "outputs": [],
   "source": [
    "import pandas as pd\n",
    "import numpy as np\n",
    "\n",
    "import matplotlib.pyplot as plt\n",
    "import seaborn as sb\n",
    "from sklearn.feature_selection import mutual_info_classif\n",
    "from sklearn.model_selection import train_test_split\n",
    "\n",
    "from sklearn.linear_model import LogisticRegression\n",
    "from sklearn.naive_bayes import GaussianNB\n",
    "from sklearn.tree import DecisionTreeClassifier\n",
    "from sklearn.ensemble import RandomForestClassifier\n",
    "from sklearn.svm import SVC\n",
    "from sklearn.naive_bayes import MultinomialNB\n",
    "from sklearn.neural_network import MLPClassifier\n",
    "from sklearn.svm import LinearSVC\n",
    "from sklearn.neighbors import KNeighborsClassifier\n",
    "from sklearn.ensemble import GradientBoostingClassifier\n",
    "from sklearn.ensemble import ExtraTreesClassifier\n",
    "from sklearn.naive_bayes import BernoulliNB\n",
    "from sklearn.ensemble import AdaBoostClassifier\n",
    "\n",
    "\n",
    "from sklearn.metrics import accuracy_score\n",
    "\n",
    "from sklearn import preprocessing"
   ]
  },
  {
   "cell_type": "code",
   "execution_count": 39,
   "id": "5ac79191",
   "metadata": {},
   "outputs": [],
   "source": [
    "data = pd.read_csv('PCOS_Final_Data.csv')"
   ]
  },
  {
   "cell_type": "code",
   "execution_count": 40,
   "id": "a7e75f87",
   "metadata": {},
   "outputs": [
    {
     "name": "stdout",
     "output_type": "stream",
     "text": [
      "<class 'pandas.core.frame.DataFrame'>\n",
      "RangeIndex: 541 entries, 0 to 540\n",
      "Data columns (total 45 columns):\n",
      " #   Column                  Non-Null Count  Dtype  \n",
      "---  ------                  --------------  -----  \n",
      " 0   Unnamed: 0              541 non-null    int64  \n",
      " 1   Sl. No                  541 non-null    int64  \n",
      " 2   Patient File No.        541 non-null    int64  \n",
      " 3   PCOS (Y/N)              541 non-null    int64  \n",
      " 4    Age (yrs)              541 non-null    int64  \n",
      " 5   Weight (Kg)             541 non-null    float64\n",
      " 6   Height(Cm)              541 non-null    float64\n",
      " 7   BMI                     541 non-null    float64\n",
      " 8   Blood Group             541 non-null    int64  \n",
      " 9   Pulse rate(bpm)         541 non-null    int64  \n",
      " 10  RR (breaths/min)        541 non-null    int64  \n",
      " 11  Hb(g/dl)                541 non-null    float64\n",
      " 12  Cycle(R/I)              541 non-null    int64  \n",
      " 13  Cycle length(days)      541 non-null    int64  \n",
      " 14  Marraige Status (Yrs)   541 non-null    float64\n",
      " 15  Pregnant(Y/N)           541 non-null    int64  \n",
      " 16  No. of aborptions       541 non-null    int64  \n",
      " 17  FSH(mIU/mL)             541 non-null    float64\n",
      " 18  LH(mIU/mL)              541 non-null    float64\n",
      " 19  FSH/LH                  541 non-null    float64\n",
      " 20  Hip(inch)               541 non-null    int64  \n",
      " 21  Waist(inch)             541 non-null    int64  \n",
      " 22  Waist:Hip Ratio         541 non-null    float64\n",
      " 23  TSH (mIU/L)             541 non-null    float64\n",
      " 24  AMH(ng/mL)              541 non-null    float64\n",
      " 25  PRL(ng/mL)              541 non-null    float64\n",
      " 26  Vit D3 (ng/mL)          541 non-null    float64\n",
      " 27  PRG(ng/mL)              541 non-null    float64\n",
      " 28  RBS(mg/dl)              541 non-null    float64\n",
      " 29  Weight gain(Y/N)        541 non-null    int64  \n",
      " 30  hair growth(Y/N)        541 non-null    int64  \n",
      " 31  Skin darkening (Y/N)    541 non-null    int64  \n",
      " 32  Hair loss(Y/N)          541 non-null    int64  \n",
      " 33  Pimples(Y/N)            541 non-null    int64  \n",
      " 34  Fast food (Y/N)         541 non-null    int64  \n",
      " 35  Reg.Exercise(Y/N)       541 non-null    int64  \n",
      " 36  BP _Systolic (mmHg)     541 non-null    int64  \n",
      " 37  BP _Diastolic (mmHg)    541 non-null    int64  \n",
      " 38  Follicle No. (L)        541 non-null    int64  \n",
      " 39  Follicle No. (R)        541 non-null    int64  \n",
      " 40  Avg. F size (L) (mm)    541 non-null    float64\n",
      " 41  Avg. F size (R) (mm)    541 non-null    float64\n",
      " 42  Endometrium (mm)        541 non-null    float64\n",
      " 43    I   beta-HCG(mIU/mL)  541 non-null    float64\n",
      " 44  II    beta-HCG(mIU/mL)  541 non-null    float64\n",
      "dtypes: float64(20), int64(25)\n",
      "memory usage: 190.3 KB\n"
     ]
    }
   ],
   "source": [
    "data.info()"
   ]
  },
  {
   "cell_type": "code",
   "execution_count": 41,
   "id": "ccfeda5a",
   "metadata": {},
   "outputs": [],
   "source": [
    "#There is a column without name,So, first naming it.\n",
    "data = data.rename(columns={'Unnamed: 0': 'index'})"
   ]
  },
  {
   "cell_type": "code",
   "execution_count": 42,
   "id": "b5509e85",
   "metadata": {},
   "outputs": [
    {
     "name": "stdout",
     "output_type": "stream",
     "text": [
      "<class 'pandas.core.frame.DataFrame'>\n",
      "RangeIndex: 541 entries, 0 to 540\n",
      "Data columns (total 45 columns):\n",
      " #   Column                  Non-Null Count  Dtype  \n",
      "---  ------                  --------------  -----  \n",
      " 0   index                   541 non-null    int64  \n",
      " 1   Sl. No                  541 non-null    int64  \n",
      " 2   Patient File No.        541 non-null    int64  \n",
      " 3   PCOS (Y/N)              541 non-null    int64  \n",
      " 4    Age (yrs)              541 non-null    int64  \n",
      " 5   Weight (Kg)             541 non-null    float64\n",
      " 6   Height(Cm)              541 non-null    float64\n",
      " 7   BMI                     541 non-null    float64\n",
      " 8   Blood Group             541 non-null    int64  \n",
      " 9   Pulse rate(bpm)         541 non-null    int64  \n",
      " 10  RR (breaths/min)        541 non-null    int64  \n",
      " 11  Hb(g/dl)                541 non-null    float64\n",
      " 12  Cycle(R/I)              541 non-null    int64  \n",
      " 13  Cycle length(days)      541 non-null    int64  \n",
      " 14  Marraige Status (Yrs)   541 non-null    float64\n",
      " 15  Pregnant(Y/N)           541 non-null    int64  \n",
      " 16  No. of aborptions       541 non-null    int64  \n",
      " 17  FSH(mIU/mL)             541 non-null    float64\n",
      " 18  LH(mIU/mL)              541 non-null    float64\n",
      " 19  FSH/LH                  541 non-null    float64\n",
      " 20  Hip(inch)               541 non-null    int64  \n",
      " 21  Waist(inch)             541 non-null    int64  \n",
      " 22  Waist:Hip Ratio         541 non-null    float64\n",
      " 23  TSH (mIU/L)             541 non-null    float64\n",
      " 24  AMH(ng/mL)              541 non-null    float64\n",
      " 25  PRL(ng/mL)              541 non-null    float64\n",
      " 26  Vit D3 (ng/mL)          541 non-null    float64\n",
      " 27  PRG(ng/mL)              541 non-null    float64\n",
      " 28  RBS(mg/dl)              541 non-null    float64\n",
      " 29  Weight gain(Y/N)        541 non-null    int64  \n",
      " 30  hair growth(Y/N)        541 non-null    int64  \n",
      " 31  Skin darkening (Y/N)    541 non-null    int64  \n",
      " 32  Hair loss(Y/N)          541 non-null    int64  \n",
      " 33  Pimples(Y/N)            541 non-null    int64  \n",
      " 34  Fast food (Y/N)         541 non-null    int64  \n",
      " 35  Reg.Exercise(Y/N)       541 non-null    int64  \n",
      " 36  BP _Systolic (mmHg)     541 non-null    int64  \n",
      " 37  BP _Diastolic (mmHg)    541 non-null    int64  \n",
      " 38  Follicle No. (L)        541 non-null    int64  \n",
      " 39  Follicle No. (R)        541 non-null    int64  \n",
      " 40  Avg. F size (L) (mm)    541 non-null    float64\n",
      " 41  Avg. F size (R) (mm)    541 non-null    float64\n",
      " 42  Endometrium (mm)        541 non-null    float64\n",
      " 43    I   beta-HCG(mIU/mL)  541 non-null    float64\n",
      " 44  II    beta-HCG(mIU/mL)  541 non-null    float64\n",
      "dtypes: float64(20), int64(25)\n",
      "memory usage: 190.3 KB\n"
     ]
    }
   ],
   "source": [
    "data.info()"
   ]
  },
  {
   "cell_type": "code",
   "execution_count": 43,
   "id": "c3a24577",
   "metadata": {},
   "outputs": [],
   "source": [
    "#Droping the columns which are not related to the output\n",
    "data = data.drop(['index','Sl. No','Patient File No.'],axis=1)"
   ]
  },
  {
   "cell_type": "code",
   "execution_count": 44,
   "id": "7b49c1b4",
   "metadata": {},
   "outputs": [
    {
     "data": {
      "text/html": [
       "<div>\n",
       "<style scoped>\n",
       "    .dataframe tbody tr th:only-of-type {\n",
       "        vertical-align: middle;\n",
       "    }\n",
       "\n",
       "    .dataframe tbody tr th {\n",
       "        vertical-align: top;\n",
       "    }\n",
       "\n",
       "    .dataframe thead th {\n",
       "        text-align: right;\n",
       "    }\n",
       "</style>\n",
       "<table border=\"1\" class=\"dataframe\">\n",
       "  <thead>\n",
       "    <tr style=\"text-align: right;\">\n",
       "      <th></th>\n",
       "      <th>PCOS (Y/N)</th>\n",
       "      <th>Age (yrs)</th>\n",
       "      <th>Weight (Kg)</th>\n",
       "      <th>Height(Cm)</th>\n",
       "      <th>BMI</th>\n",
       "      <th>Blood Group</th>\n",
       "      <th>Pulse rate(bpm)</th>\n",
       "      <th>RR (breaths/min)</th>\n",
       "      <th>Hb(g/dl)</th>\n",
       "      <th>Cycle(R/I)</th>\n",
       "      <th>...</th>\n",
       "      <th>Reg.Exercise(Y/N)</th>\n",
       "      <th>BP _Systolic (mmHg)</th>\n",
       "      <th>BP _Diastolic (mmHg)</th>\n",
       "      <th>Follicle No. (L)</th>\n",
       "      <th>Follicle No. (R)</th>\n",
       "      <th>Avg. F size (L) (mm)</th>\n",
       "      <th>Avg. F size (R) (mm)</th>\n",
       "      <th>Endometrium (mm)</th>\n",
       "      <th>I   beta-HCG(mIU/mL)</th>\n",
       "      <th>II    beta-HCG(mIU/mL)</th>\n",
       "    </tr>\n",
       "  </thead>\n",
       "  <tbody>\n",
       "    <tr>\n",
       "      <th>0</th>\n",
       "      <td>0</td>\n",
       "      <td>28</td>\n",
       "      <td>44.6</td>\n",
       "      <td>152.0</td>\n",
       "      <td>19.300000</td>\n",
       "      <td>15</td>\n",
       "      <td>78</td>\n",
       "      <td>22</td>\n",
       "      <td>10.48</td>\n",
       "      <td>2</td>\n",
       "      <td>...</td>\n",
       "      <td>0</td>\n",
       "      <td>110</td>\n",
       "      <td>80</td>\n",
       "      <td>3</td>\n",
       "      <td>3</td>\n",
       "      <td>18.0</td>\n",
       "      <td>18.0</td>\n",
       "      <td>8.5</td>\n",
       "      <td>1.99</td>\n",
       "      <td>1.99</td>\n",
       "    </tr>\n",
       "    <tr>\n",
       "      <th>1</th>\n",
       "      <td>0</td>\n",
       "      <td>36</td>\n",
       "      <td>65.0</td>\n",
       "      <td>161.5</td>\n",
       "      <td>24.921163</td>\n",
       "      <td>15</td>\n",
       "      <td>74</td>\n",
       "      <td>20</td>\n",
       "      <td>11.70</td>\n",
       "      <td>2</td>\n",
       "      <td>...</td>\n",
       "      <td>0</td>\n",
       "      <td>120</td>\n",
       "      <td>70</td>\n",
       "      <td>3</td>\n",
       "      <td>5</td>\n",
       "      <td>15.0</td>\n",
       "      <td>14.0</td>\n",
       "      <td>3.7</td>\n",
       "      <td>60.80</td>\n",
       "      <td>1.99</td>\n",
       "    </tr>\n",
       "    <tr>\n",
       "      <th>2</th>\n",
       "      <td>1</td>\n",
       "      <td>33</td>\n",
       "      <td>68.8</td>\n",
       "      <td>165.0</td>\n",
       "      <td>25.270891</td>\n",
       "      <td>11</td>\n",
       "      <td>72</td>\n",
       "      <td>18</td>\n",
       "      <td>11.80</td>\n",
       "      <td>2</td>\n",
       "      <td>...</td>\n",
       "      <td>0</td>\n",
       "      <td>120</td>\n",
       "      <td>80</td>\n",
       "      <td>13</td>\n",
       "      <td>15</td>\n",
       "      <td>18.0</td>\n",
       "      <td>20.0</td>\n",
       "      <td>10.0</td>\n",
       "      <td>494.08</td>\n",
       "      <td>494.08</td>\n",
       "    </tr>\n",
       "    <tr>\n",
       "      <th>3</th>\n",
       "      <td>0</td>\n",
       "      <td>37</td>\n",
       "      <td>65.0</td>\n",
       "      <td>148.0</td>\n",
       "      <td>29.674945</td>\n",
       "      <td>13</td>\n",
       "      <td>72</td>\n",
       "      <td>20</td>\n",
       "      <td>12.00</td>\n",
       "      <td>2</td>\n",
       "      <td>...</td>\n",
       "      <td>0</td>\n",
       "      <td>120</td>\n",
       "      <td>70</td>\n",
       "      <td>2</td>\n",
       "      <td>2</td>\n",
       "      <td>15.0</td>\n",
       "      <td>14.0</td>\n",
       "      <td>7.5</td>\n",
       "      <td>1.99</td>\n",
       "      <td>1.99</td>\n",
       "    </tr>\n",
       "    <tr>\n",
       "      <th>4</th>\n",
       "      <td>0</td>\n",
       "      <td>25</td>\n",
       "      <td>52.0</td>\n",
       "      <td>161.0</td>\n",
       "      <td>20.060954</td>\n",
       "      <td>11</td>\n",
       "      <td>72</td>\n",
       "      <td>18</td>\n",
       "      <td>10.00</td>\n",
       "      <td>2</td>\n",
       "      <td>...</td>\n",
       "      <td>0</td>\n",
       "      <td>120</td>\n",
       "      <td>80</td>\n",
       "      <td>3</td>\n",
       "      <td>4</td>\n",
       "      <td>16.0</td>\n",
       "      <td>14.0</td>\n",
       "      <td>7.0</td>\n",
       "      <td>801.45</td>\n",
       "      <td>801.45</td>\n",
       "    </tr>\n",
       "  </tbody>\n",
       "</table>\n",
       "<p>5 rows × 42 columns</p>\n",
       "</div>"
      ],
      "text/plain": [
       "   PCOS (Y/N)   Age (yrs)  Weight (Kg)  Height(Cm)         BMI  Blood Group  \\\n",
       "0           0          28         44.6        152.0  19.300000           15   \n",
       "1           0          36         65.0        161.5  24.921163           15   \n",
       "2           1          33         68.8        165.0  25.270891           11   \n",
       "3           0          37         65.0        148.0  29.674945           13   \n",
       "4           0          25         52.0        161.0  20.060954           11   \n",
       "\n",
       "   Pulse rate(bpm)   RR (breaths/min)  Hb(g/dl)  Cycle(R/I)  ...  \\\n",
       "0                78                22     10.48           2  ...   \n",
       "1                74                20     11.70           2  ...   \n",
       "2                72                18     11.80           2  ...   \n",
       "3                72                20     12.00           2  ...   \n",
       "4                72                18     10.00           2  ...   \n",
       "\n",
       "   Reg.Exercise(Y/N)  BP _Systolic (mmHg)  BP _Diastolic (mmHg)  \\\n",
       "0                  0                  110                    80   \n",
       "1                  0                  120                    70   \n",
       "2                  0                  120                    80   \n",
       "3                  0                  120                    70   \n",
       "4                  0                  120                    80   \n",
       "\n",
       "   Follicle No. (L)  Follicle No. (R)  Avg. F size (L) (mm)  \\\n",
       "0                 3                 3                  18.0   \n",
       "1                 3                 5                  15.0   \n",
       "2                13                15                  18.0   \n",
       "3                 2                 2                  15.0   \n",
       "4                 3                 4                  16.0   \n",
       "\n",
       "   Avg. F size (R) (mm)  Endometrium (mm)    I   beta-HCG(mIU/mL)  \\\n",
       "0                  18.0               8.5                    1.99   \n",
       "1                  14.0               3.7                   60.80   \n",
       "2                  20.0              10.0                  494.08   \n",
       "3                  14.0               7.5                    1.99   \n",
       "4                  14.0               7.0                  801.45   \n",
       "\n",
       "   II    beta-HCG(mIU/mL)  \n",
       "0                    1.99  \n",
       "1                    1.99  \n",
       "2                  494.08  \n",
       "3                    1.99  \n",
       "4                  801.45  \n",
       "\n",
       "[5 rows x 42 columns]"
      ]
     },
     "execution_count": 44,
     "metadata": {},
     "output_type": "execute_result"
    }
   ],
   "source": [
    "data.head()"
   ]
  },
  {
   "cell_type": "markdown",
   "id": "2efd60f0",
   "metadata": {},
   "source": [
    "# data Visualisation and analysis"
   ]
  },
  {
   "cell_type": "code",
   "execution_count": 45,
   "id": "a3889fc9",
   "metadata": {},
   "outputs": [],
   "source": [
    "# plt.figure(figsize=(80,40))\n",
    "\n",
    "# sb.heatmap(data.corr(), annot=True, cmap=\"coolwarm\", center = 0, vmin=-1,vmax=1,annot_kws={\"fontsize\": 22})"
   ]
  },
  {
   "cell_type": "code",
   "execution_count": 46,
   "id": "af0cb2a8",
   "metadata": {},
   "outputs": [
    {
     "data": {
      "text/plain": [
       "<AxesSubplot:xlabel='PCOS (Y/N)', ylabel='count'>"
      ]
     },
     "execution_count": 46,
     "metadata": {},
     "output_type": "execute_result"
    },
    {
     "data": {
      "image/png": "[encoded data removed]",
      "text/plain": [
       "<Figure size 432x288 with 1 Axes>"
      ]
     },
     "metadata": {
      "needs_background": "light"
     },
     "output_type": "display_data"
    }
   ],
   "source": [
    "# Weight gains of patients \n",
    "sb.countplot(x='PCOS (Y/N)',hue='Weight gain(Y/N)',data=data)"
   ]
  },
  {
   "cell_type": "code",
   "execution_count": 47,
   "id": "22b057ca",
   "metadata": {},
   "outputs": [
    {
     "data": {
      "text/plain": [
       "<AxesSubplot:xlabel='PCOS (Y/N)', ylabel='count'>"
      ]
     },
     "execution_count": 47,
     "metadata": {},
     "output_type": "execute_result"
    },
    {
     "data": {
      "image/png": "[encoded data removed]",
      "text/plain": [
       "<Figure size 432x288 with 1 Axes>"
      ]
     },
     "metadata": {
      "needs_background": "light"
     },
     "output_type": "display_data"
    }
   ],
   "source": [
    "# Hair growth of patients\n",
    "sb.countplot(x='PCOS (Y/N)',hue='hair growth(Y/N)',data=data)"
   ]
  },
  {
   "cell_type": "code",
   "execution_count": 48,
   "id": "ffa936a5",
   "metadata": {},
   "outputs": [
    {
     "data": {
      "text/plain": [
       "<AxesSubplot:xlabel='PCOS (Y/N)', ylabel='count'>"
      ]
     },
     "execution_count": 48,
     "metadata": {},
     "output_type": "execute_result"
    },
    {
     "data": {
      "image/png": "[encoded data removed]",
      "text/plain": [
       "<Figure size 432x288 with 1 Axes>"
      ]
     },
     "metadata": {
      "needs_background": "light"
     },
     "output_type": "display_data"
    }
   ],
   "source": [
    "# Skin Darkening of patients\n",
    "sb.countplot(x='PCOS (Y/N)',hue='Skin darkening (Y/N)',data=data)"
   ]
  },
  {
   "cell_type": "code",
   "execution_count": 49,
   "id": "10bcda20",
   "metadata": {},
   "outputs": [
    {
     "data": {
      "text/plain": [
       "<AxesSubplot:xlabel='PCOS (Y/N)', ylabel='count'>"
      ]
     },
     "execution_count": 49,
     "metadata": {},
     "output_type": "execute_result"
    },
    {
     "data": {
      "image/png": "[encoded data removed]",
      "text/plain": [
       "<Figure size 432x288 with 1 Axes>"
      ]
     },
     "metadata": {
      "needs_background": "light"
     },
     "output_type": "display_data"
    }
   ],
   "source": [
    "# Hair loss of patients\n",
    "sb.countplot(x='PCOS (Y/N)',hue='Hair loss(Y/N)',data=data)"
   ]
  },
  {
   "cell_type": "code",
   "execution_count": 50,
   "id": "fe53b6e6",
   "metadata": {},
   "outputs": [
    {
     "data": {
      "text/plain": [
       "<AxesSubplot:xlabel='PCOS (Y/N)', ylabel='count'>"
      ]
     },
     "execution_count": 50,
     "metadata": {},
     "output_type": "execute_result"
    },
    {
     "data": {
      "image/png": "[encoded data removed]",
      "text/plain": [
       "<Figure size 432x288 with 1 Axes>"
      ]
     },
     "metadata": {
      "needs_background": "light"
     },
     "output_type": "display_data"
    }
   ],
   "source": [
    "# Hair growth of paitents\n",
    "sb.countplot(x='PCOS (Y/N)',hue='hair growth(Y/N)',data=data)"
   ]
  },
  {
   "cell_type": "code",
   "execution_count": 51,
   "id": "3b55abd0",
   "metadata": {},
   "outputs": [
    {
     "data": {
      "text/plain": [
       "<AxesSubplot:xlabel='PCOS (Y/N)', ylabel='count'>"
      ]
     },
     "execution_count": 51,
     "metadata": {},
     "output_type": "execute_result"
    },
    {
     "data": {
      "image/png": "[encoded data removed]",
      "text/plain": [
       "<Figure size 432x288 with 1 Axes>"
      ]
     },
     "metadata": {
      "needs_background": "light"
     },
     "output_type": "display_data"
    }
   ],
   "source": [
    "# Pimples visibility of patients\n",
    "sb.countplot(x='PCOS (Y/N)',hue='Pimples(Y/N)',data=data)"
   ]
  },
  {
   "cell_type": "code",
   "execution_count": 52,
   "id": "bfc30ec1",
   "metadata": {},
   "outputs": [
    {
     "data": {
      "text/plain": [
       "<AxesSubplot:xlabel='PCOS (Y/N)', ylabel='count'>"
      ]
     },
     "execution_count": 52,
     "metadata": {},
     "output_type": "execute_result"
    },
    {
     "data": {
      "image/png": "[encoded data removed]",
      "text/plain": [
       "<Figure size 432x288 with 1 Axes>"
      ]
     },
     "metadata": {
      "needs_background": "light"
     },
     "output_type": "display_data"
    }
   ],
   "source": [
    "# Fast Food consumptions of patients \n",
    "sb.countplot(x='PCOS (Y/N)',hue='Fast food (Y/N)',data=data)"
   ]
  },
  {
   "cell_type": "code",
   "execution_count": 53,
   "id": "11ce4a17",
   "metadata": {},
   "outputs": [
    {
     "data": {
      "text/plain": [
       "<AxesSubplot:xlabel='PCOS (Y/N)', ylabel='count'>"
      ]
     },
     "execution_count": 53,
     "metadata": {},
     "output_type": "execute_result"
    },
    {
     "data": {
      "image/png": "[encoded data removed]",
      "text/plain": [
       "<Figure size 432x288 with 1 Axes>"
      ]
     },
     "metadata": {
      "needs_background": "light"
     },
     "output_type": "display_data"
    }
   ],
   "source": [
    "# Reg Exercise of patients \n",
    "sb.countplot(x='PCOS (Y/N)',hue='Reg.Exercise(Y/N)',data=data)"
   ]
  }
 ],
 "metadata": {
  "kernelspec": {
   "display_name": "Python 3 (ipykernel)",
   "language": "python",
   "name": "python3"
  },
  "language_info": {
   "codemirror_mode": {
    "name": "ipython",
    "version": 3
   },
   "file_extension": ".py",
   "mimetype": "text/x-python",
   "name": "python",
   "nbconvert_exporter": "python",
   "pygments_lexer": "ipython3",
   "version": "3.9.12"
  }
 },
 "nbformat": 4,
 "nbformat_minor": 5
}
