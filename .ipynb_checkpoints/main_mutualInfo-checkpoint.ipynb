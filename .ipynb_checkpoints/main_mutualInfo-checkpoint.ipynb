{
 "cells": [
  {
   "cell_type": "code",
   "execution_count": 405,
   "id": "c5e92e93",
   "metadata": {},
   "outputs": [],
   "source": [
    "# 0 = No\n",
    "# 1 = Yes"
   ]
  },
  {
   "cell_type": "code",
   "execution_count": 406,
   "id": "c27ca122",
   "metadata": {},
   "outputs": [],
   "source": [
    "import pandas as pd\n",
    "import numpy as np\n",
    "\n",
    "import matplotlib.pyplot as plt\n",
    "import seaborn as sb\n",
    "from sklearn.feature_selection import mutual_info_classif\n",
    "from sklearn.model_selection import train_test_split\n",
    "\n",
    "from sklearn.linear_model import LogisticRegression\n",
    "from sklearn.naive_bayes import GaussianNB\n",
    "from sklearn.tree import DecisionTreeClassifier\n",
    "from sklearn.ensemble import RandomForestClassifier\n",
    "from sklearn.svm import SVC\n",
    "from sklearn.naive_bayes import MultinomialNB\n",
    "from sklearn.neural_network import MLPClassifier\n",
    "from sklearn.svm import LinearSVC\n",
    "from sklearn.neighbors import KNeighborsClassifier\n",
    "from sklearn.ensemble import GradientBoostingClassifier\n",
    "from sklearn.ensemble import ExtraTreesClassifier\n",
    "from sklearn.naive_bayes import BernoulliNB\n",
    "from sklearn.ensemble import AdaBoostClassifier\n",
    "\n",
    "\n",
    "from sklearn.metrics import accuracy_score, confusion_matrix, precision_score, recall_score, f1_score, roc_curve, roc_auc_score, auc\n",
    "\n",
    "from sklearn import preprocessing"
   ]
  },
  {
   "cell_type": "code",
   "execution_count": 407,
   "id": "3b7381f5",
   "metadata": {},
   "outputs": [],
   "source": [
    "models = []\n",
    "accuracy = []\n",
    "f1 = []\n",
    "def score(model: str, test, predicted):\n",
    "    print(f\"Model: {model}\")\n",
    "    models.append(model) # adding the values in the models list\n",
    "    # Calculate accuracy_LR\n",
    "    accuracy_LR = accuracy_score(test, predicted)\n",
    "    accuracy.append(round(accuracy_LR*100, 2)) # adding the values in the accuracy list\n",
    "    print(\"\\naccuracy_LR:\", round(accuracy_LR*100, 2), \"%\")\n",
    "\n",
    "    # Calculate confusion matrix\n",
    "    conf_matrix = confusion_matrix(test, predicted)\n",
    "\n",
    "    # precision, recall, f1, roc\n",
    "    precision_LR = round(precision_score(test,predicted)*100, 2)\n",
    "    recall_LR = round(recall_score(test,predicted)*100,2)\n",
    "    f1_LR = round(f1_score(test,predicted)*100,2)\n",
    "    f1.append(f1_LR) # adding the values in the f1 list\n",
    "    roc_LR = round(roc_auc_score(test,predicted)*100,2)\n",
    "\n",
    "    print(\"\\nPrecision: \",precision_LR,'%')\n",
    "    print(\"Recall score: \",recall_LR,'%')\n",
    "    print(\"F1 Score:\", f1_LR,'%')\n",
    "    print(\"ROC score: \",roc_LR,'%')\n",
    "    \n",
    "    # showing the confusion matrix in heatmap\n",
    "    plt.figure(figsize=(3, 3))\n",
    "    sb.heatmap(conf_matrix, annot=True, fmt=\"d\", cmap=\"Reds\")\n",
    "    #plt.title(\"Confusion Matrix\")\n",
    "    plt.xlabel(\"Predicted\")\n",
    "    plt.ylabel(\"True\")\n",
    "    plt.show()"
   ]
  },
  {
   "cell_type": "code",
   "execution_count": 408,
   "id": "5ac79191",
   "metadata": {},
   "outputs": [],
   "source": [
    "data = pd.read_csv('PCOS_Final_Data.csv')"
   ]
  },
  {
   "cell_type": "code",
   "execution_count": 409,
   "id": "a7e75f87",
   "metadata": {},
   "outputs": [
    {
     "name": "stdout",
     "output_type": "stream",
     "text": [
      "<class 'pandas.core.frame.DataFrame'>\n",
      "RangeIndex: 541 entries, 0 to 540\n",
      "Data columns (total 45 columns):\n",
      " #   Column                  Non-Null Count  Dtype  \n",
      "---  ------                  --------------  -----  \n",
      " 0   Unnamed: 0              541 non-null    int64  \n",
      " 1   Sl. No                  541 non-null    int64  \n",
      " 2   Patient File No.        541 non-null    int64  \n",
      " 3   PCOS (Y/N)              541 non-null    int64  \n",
      " 4    Age (yrs)              541 non-null    int64  \n",
      " 5   Weight (Kg)             541 non-null    float64\n",
      " 6   Height(Cm)              541 non-null    float64\n",
      " 7   BMI                     541 non-null    float64\n",
      " 8   Blood Group             541 non-null    int64  \n",
      " 9   Pulse rate(bpm)         541 non-null    int64  \n",
      " 10  RR (breaths/min)        541 non-null    int64  \n",
      " 11  Hb(g/dl)                541 non-null    float64\n",
      " 12  Cycle(R/I)              541 non-null    int64  \n",
      " 13  Cycle length(days)      541 non-null    int64  \n",
      " 14  Marraige Status (Yrs)   541 non-null    float64\n",
      " 15  Pregnant(Y/N)           541 non-null    int64  \n",
      " 16  No. of aborptions       541 non-null    int64  \n",
      " 17  FSH(mIU/mL)             541 non-null    float64\n",
      " 18  LH(mIU/mL)              541 non-null    float64\n",
      " 19  FSH/LH                  541 non-null    float64\n",
      " 20  Hip(inch)               541 non-null    int64  \n",
      " 21  Waist(inch)             541 non-null    int64  \n",
      " 22  Waist:Hip Ratio         541 non-null    float64\n",
      " 23  TSH (mIU/L)             541 non-null    float64\n",
      " 24  AMH(ng/mL)              541 non-null    float64\n",
      " 25  PRL(ng/mL)              541 non-null    float64\n",
      " 26  Vit D3 (ng/mL)          541 non-null    float64\n",
      " 27  PRG(ng/mL)              541 non-null    float64\n",
      " 28  RBS(mg/dl)              541 non-null    float64\n",
      " 29  Weight gain(Y/N)        541 non-null    int64  \n",
      " 30  hair growth(Y/N)        541 non-null    int64  \n",
      " 31  Skin darkening (Y/N)    541 non-null    int64  \n",
      " 32  Hair loss(Y/N)          541 non-null    int64  \n",
      " 33  Pimples(Y/N)            541 non-null    int64  \n",
      " 34  Fast food (Y/N)         541 non-null    int64  \n",
      " 35  Reg.Exercise(Y/N)       541 non-null    int64  \n",
      " 36  BP _Systolic (mmHg)     541 non-null    int64  \n",
      " 37  BP _Diastolic (mmHg)    541 non-null    int64  \n",
      " 38  Follicle No. (L)        541 non-null    int64  \n",
      " 39  Follicle No. (R)        541 non-null    int64  \n",
      " 40  Avg. F size (L) (mm)    541 non-null    float64\n",
      " 41  Avg. F size (R) (mm)    541 non-null    float64\n",
      " 42  Endometrium (mm)        541 non-null    float64\n",
      " 43    I   beta-HCG(mIU/mL)  541 non-null    float64\n",
      " 44  II    beta-HCG(mIU/mL)  541 non-null    float64\n",
      "dtypes: float64(20), int64(25)\n",
      "memory usage: 190.3 KB\n"
     ]
    }
   ],
   "source": [
    "data.info()"
   ]
  },
  {
   "cell_type": "code",
   "execution_count": 410,
   "id": "ccfeda5a",
   "metadata": {},
   "outputs": [],
   "source": [
    "#There is a column without name,So, first naming it.\n",
    "data = data.rename(columns={'Unnamed: 0': 'index'})"
   ]
  },
  {
   "cell_type": "code",
   "execution_count": 411,
   "id": "c3a24577",
   "metadata": {},
   "outputs": [],
   "source": [
    "#Droping the columns which are not related to the output\n",
    "data = data.drop(['index','Sl. No','Patient File No.'],axis=1)"
   ]
  },
  {
   "cell_type": "code",
   "execution_count": 412,
   "id": "7b49c1b4",
   "metadata": {},
   "outputs": [
    {
     "data": {
      "text/html": [
       "<div>\n",
       "<style scoped>\n",
       "    .dataframe tbody tr th:only-of-type {\n",
       "        vertical-align: middle;\n",
       "    }\n",
       "\n",
       "    .dataframe tbody tr th {\n",
       "        vertical-align: top;\n",
       "    }\n",
       "\n",
       "    .dataframe thead th {\n",
       "        text-align: right;\n",
       "    }\n",
       "</style>\n",
       "<table border=\"1\" class=\"dataframe\">\n",
       "  <thead>\n",
       "    <tr style=\"text-align: right;\">\n",
       "      <th></th>\n",
       "      <th>PCOS (Y/N)</th>\n",
       "      <th>Age (yrs)</th>\n",
       "      <th>Weight (Kg)</th>\n",
       "      <th>Height(Cm)</th>\n",
       "      <th>BMI</th>\n",
       "      <th>Blood Group</th>\n",
       "      <th>Pulse rate(bpm)</th>\n",
       "      <th>RR (breaths/min)</th>\n",
       "      <th>Hb(g/dl)</th>\n",
       "      <th>Cycle(R/I)</th>\n",
       "      <th>...</th>\n",
       "      <th>Reg.Exercise(Y/N)</th>\n",
       "      <th>BP _Systolic (mmHg)</th>\n",
       "      <th>BP _Diastolic (mmHg)</th>\n",
       "      <th>Follicle No. (L)</th>\n",
       "      <th>Follicle No. (R)</th>\n",
       "      <th>Avg. F size (L) (mm)</th>\n",
       "      <th>Avg. F size (R) (mm)</th>\n",
       "      <th>Endometrium (mm)</th>\n",
       "      <th>I   beta-HCG(mIU/mL)</th>\n",
       "      <th>II    beta-HCG(mIU/mL)</th>\n",
       "    </tr>\n",
       "  </thead>\n",
       "  <tbody>\n",
       "    <tr>\n",
       "      <th>0</th>\n",
       "      <td>0</td>\n",
       "      <td>28</td>\n",
       "      <td>44.6</td>\n",
       "      <td>152.0</td>\n",
       "      <td>19.300000</td>\n",
       "      <td>15</td>\n",
       "      <td>78</td>\n",
       "      <td>22</td>\n",
       "      <td>10.48</td>\n",
       "      <td>2</td>\n",
       "      <td>...</td>\n",
       "      <td>0</td>\n",
       "      <td>110</td>\n",
       "      <td>80</td>\n",
       "      <td>3</td>\n",
       "      <td>3</td>\n",
       "      <td>18.0</td>\n",
       "      <td>18.0</td>\n",
       "      <td>8.5</td>\n",
       "      <td>1.99</td>\n",
       "      <td>1.99</td>\n",
       "    </tr>\n",
       "    <tr>\n",
       "      <th>1</th>\n",
       "      <td>0</td>\n",
       "      <td>36</td>\n",
       "      <td>65.0</td>\n",
       "      <td>161.5</td>\n",
       "      <td>24.921163</td>\n",
       "      <td>15</td>\n",
       "      <td>74</td>\n",
       "      <td>20</td>\n",
       "      <td>11.70</td>\n",
       "      <td>2</td>\n",
       "      <td>...</td>\n",
       "      <td>0</td>\n",
       "      <td>120</td>\n",
       "      <td>70</td>\n",
       "      <td>3</td>\n",
       "      <td>5</td>\n",
       "      <td>15.0</td>\n",
       "      <td>14.0</td>\n",
       "      <td>3.7</td>\n",
       "      <td>60.80</td>\n",
       "      <td>1.99</td>\n",
       "    </tr>\n",
       "    <tr>\n",
       "      <th>2</th>\n",
       "      <td>1</td>\n",
       "      <td>33</td>\n",
       "      <td>68.8</td>\n",
       "      <td>165.0</td>\n",
       "      <td>25.270891</td>\n",
       "      <td>11</td>\n",
       "      <td>72</td>\n",
       "      <td>18</td>\n",
       "      <td>11.80</td>\n",
       "      <td>2</td>\n",
       "      <td>...</td>\n",
       "      <td>0</td>\n",
       "      <td>120</td>\n",
       "      <td>80</td>\n",
       "      <td>13</td>\n",
       "      <td>15</td>\n",
       "      <td>18.0</td>\n",
       "      <td>20.0</td>\n",
       "      <td>10.0</td>\n",
       "      <td>494.08</td>\n",
       "      <td>494.08</td>\n",
       "    </tr>\n",
       "    <tr>\n",
       "      <th>3</th>\n",
       "      <td>0</td>\n",
       "      <td>37</td>\n",
       "      <td>65.0</td>\n",
       "      <td>148.0</td>\n",
       "      <td>29.674945</td>\n",
       "      <td>13</td>\n",
       "      <td>72</td>\n",
       "      <td>20</td>\n",
       "      <td>12.00</td>\n",
       "      <td>2</td>\n",
       "      <td>...</td>\n",
       "      <td>0</td>\n",
       "      <td>120</td>\n",
       "      <td>70</td>\n",
       "      <td>2</td>\n",
       "      <td>2</td>\n",
       "      <td>15.0</td>\n",
       "      <td>14.0</td>\n",
       "      <td>7.5</td>\n",
       "      <td>1.99</td>\n",
       "      <td>1.99</td>\n",
       "    </tr>\n",
       "    <tr>\n",
       "      <th>4</th>\n",
       "      <td>0</td>\n",
       "      <td>25</td>\n",
       "      <td>52.0</td>\n",
       "      <td>161.0</td>\n",
       "      <td>20.060954</td>\n",
       "      <td>11</td>\n",
       "      <td>72</td>\n",
       "      <td>18</td>\n",
       "      <td>10.00</td>\n",
       "      <td>2</td>\n",
       "      <td>...</td>\n",
       "      <td>0</td>\n",
       "      <td>120</td>\n",
       "      <td>80</td>\n",
       "      <td>3</td>\n",
       "      <td>4</td>\n",
       "      <td>16.0</td>\n",
       "      <td>14.0</td>\n",
       "      <td>7.0</td>\n",
       "      <td>801.45</td>\n",
       "      <td>801.45</td>\n",
       "    </tr>\n",
       "  </tbody>\n",
       "</table>\n",
       "<p>5 rows × 42 columns</p>\n",
       "</div>"
      ],
      "text/plain": [
       "   PCOS (Y/N)   Age (yrs)  Weight (Kg)  Height(Cm)         BMI  Blood Group  \\\n",
       "0           0          28         44.6        152.0  19.300000           15   \n",
       "1           0          36         65.0        161.5  24.921163           15   \n",
       "2           1          33         68.8        165.0  25.270891           11   \n",
       "3           0          37         65.0        148.0  29.674945           13   \n",
       "4           0          25         52.0        161.0  20.060954           11   \n",
       "\n",
       "   Pulse rate(bpm)   RR (breaths/min)  Hb(g/dl)  Cycle(R/I)  ...  \\\n",
       "0                78                22     10.48           2  ...   \n",
       "1                74                20     11.70           2  ...   \n",
       "2                72                18     11.80           2  ...   \n",
       "3                72                20     12.00           2  ...   \n",
       "4                72                18     10.00           2  ...   \n",
       "\n",
       "   Reg.Exercise(Y/N)  BP _Systolic (mmHg)  BP _Diastolic (mmHg)  \\\n",
       "0                  0                  110                    80   \n",
       "1                  0                  120                    70   \n",
       "2                  0                  120                    80   \n",
       "3                  0                  120                    70   \n",
       "4                  0                  120                    80   \n",
       "\n",
       "   Follicle No. (L)  Follicle No. (R)  Avg. F size (L) (mm)  \\\n",
       "0                 3                 3                  18.0   \n",
       "1                 3                 5                  15.0   \n",
       "2                13                15                  18.0   \n",
       "3                 2                 2                  15.0   \n",
       "4                 3                 4                  16.0   \n",
       "\n",
       "   Avg. F size (R) (mm)  Endometrium (mm)    I   beta-HCG(mIU/mL)  \\\n",
       "0                  18.0               8.5                    1.99   \n",
       "1                  14.0               3.7                   60.80   \n",
       "2                  20.0              10.0                  494.08   \n",
       "3                  14.0               7.5                    1.99   \n",
       "4                  14.0               7.0                  801.45   \n",
       "\n",
       "   II    beta-HCG(mIU/mL)  \n",
       "0                    1.99  \n",
       "1                    1.99  \n",
       "2                  494.08  \n",
       "3                    1.99  \n",
       "4                  801.45  \n",
       "\n",
       "[5 rows x 42 columns]"
      ]
     },
     "execution_count": 412,
     "metadata": {},
     "output_type": "execute_result"
    }
   ],
   "source": [
    "data.head()"
   ]
  },
  {
   "cell_type": "code",
   "execution_count": 413,
   "id": "0dc2b960",
   "metadata": {},
   "outputs": [],
   "source": [
    "# Separate the features (X) and the target variable (y)\n",
    "x = data.drop(columns='PCOS (Y/N)')  \n",
    "y = data['PCOS (Y/N)']  "
   ]
  },
  {
   "cell_type": "markdown",
   "id": "599719cb",
   "metadata": {},
   "source": [
    "# Applying Mutual info for finding better features from the dataset"
   ]
  },
  {
   "cell_type": "code",
   "execution_count": 414,
   "id": "4a29de8f",
   "metadata": {},
   "outputs": [],
   "source": [
    "# Compute mutual information between each feature and the target variable\n",
    "mutual_info = mutual_info_classif(x, y)"
   ]
  },
  {
   "cell_type": "code",
   "execution_count": 415,
   "id": "28592e8e",
   "metadata": {},
   "outputs": [
    {
     "data": {
      "text/plain": [
       "Follicle No. (R)          0.232397\n",
       "Follicle No. (L)          0.209361\n",
       "hair growth(Y/N)          0.121697\n",
       "Fast food (Y/N)           0.105589\n",
       "Weight gain(Y/N)          0.102562\n",
       "Skin darkening (Y/N)      0.102218\n",
       "AMH(ng/mL)                0.071467\n",
       "Cycle(R/I)                0.068297\n",
       "Pimples(Y/N)              0.066794\n",
       "FSH/LH                    0.065078\n",
       "PRL(ng/mL)                0.063058\n",
       "Cycle length(days)        0.053039\n",
       "Waist:Hip Ratio           0.048399\n",
       "Waist(inch)               0.038137\n",
       " Age (yrs)                0.036232\n",
       "TSH (mIU/L)               0.034648\n",
       "LH(mIU/mL)                0.029709\n",
       "FSH(mIU/mL)               0.026386\n",
       "Reg.Exercise(Y/N)         0.026061\n",
       "Weight (Kg)               0.025603\n",
       "Height(Cm)                0.021830\n",
       "No. of aborptions         0.020090\n",
       "Vit D3 (ng/mL)            0.014862\n",
       "Endometrium (mm)          0.014216\n",
       "PRG(ng/mL)                0.011399\n",
       "Hip(inch)                 0.011254\n",
       "Avg. F size (L) (mm)      0.008611\n",
       "Hb(g/dl)                  0.008380\n",
       "Pregnant(Y/N)             0.007531\n",
       "  I   beta-HCG(mIU/mL)    0.007485\n",
       "BMI                       0.007480\n",
       "Marraige Status (Yrs)     0.006035\n",
       "BP _Diastolic (mmHg)      0.000696\n",
       "Avg. F size (R) (mm)      0.000000\n",
       "Hair loss(Y/N)            0.000000\n",
       "BP _Systolic (mmHg)       0.000000\n",
       "Blood Group               0.000000\n",
       "Pulse rate(bpm)           0.000000\n",
       "RR (breaths/min)          0.000000\n",
       "RBS(mg/dl)                0.000000\n",
       "II    beta-HCG(mIU/mL)    0.000000\n",
       "dtype: float64"
      ]
     },
     "execution_count": 415,
     "metadata": {},
     "output_type": "execute_result"
    }
   ],
   "source": [
    "# Create a DataFrame to store feature names and their corresponding mutual information scores\n",
    "mi_scores = pd.Series(mutual_info, index=x.columns).sort_values(ascending=False)\n",
    "\n",
    "# Print the mutual information scores for each feature\n",
    "mi_scores"
   ]
  },
  {
   "cell_type": "code",
   "execution_count": 416,
   "id": "1b0d0e6d",
   "metadata": {},
   "outputs": [],
   "source": [
    "top_10_features = mi_scores.index[:12]\n",
    "X = x[top_10_features]"
   ]
  },
  {
   "cell_type": "code",
   "execution_count": 417,
   "id": "447d6fe3",
   "metadata": {},
   "outputs": [
    {
     "data": {
      "text/html": [
       "<div>\n",
       "<style scoped>\n",
       "    .dataframe tbody tr th:only-of-type {\n",
       "        vertical-align: middle;\n",
       "    }\n",
       "\n",
       "    .dataframe tbody tr th {\n",
       "        vertical-align: top;\n",
       "    }\n",
       "\n",
       "    .dataframe thead th {\n",
       "        text-align: right;\n",
       "    }\n",
       "</style>\n",
       "<table border=\"1\" class=\"dataframe\">\n",
       "  <thead>\n",
       "    <tr style=\"text-align: right;\">\n",
       "      <th></th>\n",
       "      <th>Follicle No. (R)</th>\n",
       "      <th>Follicle No. (L)</th>\n",
       "      <th>hair growth(Y/N)</th>\n",
       "      <th>Fast food (Y/N)</th>\n",
       "      <th>Weight gain(Y/N)</th>\n",
       "      <th>Skin darkening (Y/N)</th>\n",
       "      <th>AMH(ng/mL)</th>\n",
       "      <th>Cycle(R/I)</th>\n",
       "      <th>Pimples(Y/N)</th>\n",
       "      <th>FSH/LH</th>\n",
       "      <th>PRL(ng/mL)</th>\n",
       "      <th>Cycle length(days)</th>\n",
       "    </tr>\n",
       "  </thead>\n",
       "  <tbody>\n",
       "    <tr>\n",
       "      <th>0</th>\n",
       "      <td>3</td>\n",
       "      <td>3</td>\n",
       "      <td>0</td>\n",
       "      <td>1</td>\n",
       "      <td>0</td>\n",
       "      <td>0</td>\n",
       "      <td>2.07</td>\n",
       "      <td>2</td>\n",
       "      <td>0</td>\n",
       "      <td>2.160326</td>\n",
       "      <td>45.16</td>\n",
       "      <td>5</td>\n",
       "    </tr>\n",
       "    <tr>\n",
       "      <th>1</th>\n",
       "      <td>5</td>\n",
       "      <td>3</td>\n",
       "      <td>0</td>\n",
       "      <td>0</td>\n",
       "      <td>0</td>\n",
       "      <td>0</td>\n",
       "      <td>1.53</td>\n",
       "      <td>2</td>\n",
       "      <td>0</td>\n",
       "      <td>6.174312</td>\n",
       "      <td>20.09</td>\n",
       "      <td>5</td>\n",
       "    </tr>\n",
       "    <tr>\n",
       "      <th>2</th>\n",
       "      <td>15</td>\n",
       "      <td>13</td>\n",
       "      <td>0</td>\n",
       "      <td>1</td>\n",
       "      <td>0</td>\n",
       "      <td>0</td>\n",
       "      <td>6.63</td>\n",
       "      <td>2</td>\n",
       "      <td>1</td>\n",
       "      <td>6.295455</td>\n",
       "      <td>10.52</td>\n",
       "      <td>5</td>\n",
       "    </tr>\n",
       "    <tr>\n",
       "      <th>3</th>\n",
       "      <td>2</td>\n",
       "      <td>2</td>\n",
       "      <td>0</td>\n",
       "      <td>0</td>\n",
       "      <td>0</td>\n",
       "      <td>0</td>\n",
       "      <td>1.22</td>\n",
       "      <td>2</td>\n",
       "      <td>0</td>\n",
       "      <td>3.415254</td>\n",
       "      <td>36.90</td>\n",
       "      <td>5</td>\n",
       "    </tr>\n",
       "    <tr>\n",
       "      <th>4</th>\n",
       "      <td>4</td>\n",
       "      <td>3</td>\n",
       "      <td>0</td>\n",
       "      <td>0</td>\n",
       "      <td>0</td>\n",
       "      <td>0</td>\n",
       "      <td>2.26</td>\n",
       "      <td>2</td>\n",
       "      <td>0</td>\n",
       "      <td>4.422222</td>\n",
       "      <td>30.09</td>\n",
       "      <td>5</td>\n",
       "    </tr>\n",
       "  </tbody>\n",
       "</table>\n",
       "</div>"
      ],
      "text/plain": [
       "   Follicle No. (R)  Follicle No. (L)  hair growth(Y/N)  Fast food (Y/N)  \\\n",
       "0                 3                 3                 0                1   \n",
       "1                 5                 3                 0                0   \n",
       "2                15                13                 0                1   \n",
       "3                 2                 2                 0                0   \n",
       "4                 4                 3                 0                0   \n",
       "\n",
       "   Weight gain(Y/N)  Skin darkening (Y/N)  AMH(ng/mL)  Cycle(R/I)  \\\n",
       "0                 0                     0        2.07           2   \n",
       "1                 0                     0        1.53           2   \n",
       "2                 0                     0        6.63           2   \n",
       "3                 0                     0        1.22           2   \n",
       "4                 0                     0        2.26           2   \n",
       "\n",
       "   Pimples(Y/N)    FSH/LH  PRL(ng/mL)  Cycle length(days)  \n",
       "0             0  2.160326       45.16                   5  \n",
       "1             0  6.174312       20.09                   5  \n",
       "2             1  6.295455       10.52                   5  \n",
       "3             0  3.415254       36.90                   5  \n",
       "4             0  4.422222       30.09                   5  "
      ]
     },
     "execution_count": 417,
     "metadata": {},
     "output_type": "execute_result"
    }
   ],
   "source": [
    "X.head()"
   ]
  },
  {
   "cell_type": "code",
   "execution_count": 418,
   "id": "b0884207",
   "metadata": {},
   "outputs": [],
   "source": [
    "# Splitting the data into training and testing set\n",
    "X_train, X_test, y_train, y_test = train_test_split(X, y, test_size=0.2)"
   ]
  },
  {
   "cell_type": "code",
   "execution_count": 419,
   "id": "16705833",
   "metadata": {},
   "outputs": [],
   "source": [
    "# Standard Scaler applying for better prediction\n",
    "x_train = preprocessing.StandardScaler().fit_transform(X_train)\n",
    "x_test = preprocessing.StandardScaler().fit_transform(X_test)"
   ]
  },
  {
   "cell_type": "markdown",
   "id": "8541b688",
   "metadata": {},
   "source": [
    "# Applying Machine Learning Models"
   ]
  },
  {
   "cell_type": "markdown",
   "id": "b5181720",
   "metadata": {},
   "source": [
    "# Logistic Regression"
   ]
  },
  {
   "cell_type": "code",
   "execution_count": 420,
   "id": "54ee679b",
   "metadata": {},
   "outputs": [
    {
     "name": "stdout",
     "output_type": "stream",
     "text": [
      "Model: LR\n",
      "\n",
      "accuracy_LR: 93.58 %\n",
      "\n",
      "Precision:  92.11 %\n",
      "Recall score:  89.74 %\n",
      "F1 Score: 90.91 %\n",
      "ROC score:  92.73 %\n"
     ]
    },
    {
     "name": "stderr",
     "output_type": "stream",
     "text": [
      "C:\\ProgramData\\anaconda3\\Lib\\site-packages\\sklearn\\linear_model\\_logistic.py:460: ConvergenceWarning: lbfgs failed to converge (status=1):\n",
      "STOP: TOTAL NO. of ITERATIONS REACHED LIMIT.\n",
      "\n",
      "Increase the number of iterations (max_iter) or scale the data as shown in:\n",
      "    https://scikit-learn.org/stable/modules/preprocessing.html\n",
      "Please also refer to the documentation for alternative solver options:\n",
      "    https://scikit-learn.org/stable/modules/linear_model.html#logistic-regression\n",
      "  n_iter_i = _check_optimize_result(\n"
     ]
    },
    {
     "data": {
      "image/png": "[encoded data removed]",
      "text/plain": [
       "<Figure size 300x300 with 2 Axes>"
      ]
     },
     "metadata": {},
     "output_type": "display_data"
    }
   ],
   "source": [
    "LR = LogisticRegression(random_state=0)\n",
    "LR.fit(X_train, y_train)\n",
    "predictions_LR = LR.predict(X_test)\n",
    "\n",
    "score('LR',y_test,predictions_LR)"
   ]
  },
  {
   "cell_type": "markdown",
   "id": "52b21ab7",
   "metadata": {},
   "source": [
    "# GaussianNB"
   ]
  },
  {
   "cell_type": "code",
   "execution_count": 421,
   "id": "de0e77d5",
   "metadata": {},
   "outputs": [
    {
     "name": "stdout",
     "output_type": "stream",
     "text": [
      "Model: GNB\n",
      "\n",
      "accuracy_LR: 92.66 %\n",
      "\n",
      "Precision:  84.44 %\n",
      "Recall score:  97.44 %\n",
      "F1 Score: 90.48 %\n",
      "ROC score:  93.72 %\n"
     ]
    },
    {
     "data": {
      "image/png": "[encoded data removed]",
      "text/plain": [
       "<Figure size 300x300 with 2 Axes>"
      ]
     },
     "metadata": {},
     "output_type": "display_data"
    }
   ],
   "source": [
    "GNB = GaussianNB()\n",
    "GNB.fit(X_train, y_train)\n",
    "predictions_GNB = GNB.predict(X_test)\n",
    "\n",
    "score('GNB',y_test,predictions_GNB)"
   ]
  },
  {
   "cell_type": "markdown",
   "id": "3d8f37c6",
   "metadata": {},
   "source": [
    "# Decision Tree Classifier"
   ]
  },
  {
   "cell_type": "code",
   "execution_count": 422,
   "id": "1f26d2c2",
   "metadata": {},
   "outputs": [
    {
     "name": "stdout",
     "output_type": "stream",
     "text": [
      "Model: DTC\n",
      "\n",
      "accuracy_LR: 82.57 %\n",
      "\n",
      "Precision:  75.0 %\n",
      "Recall score:  76.92 %\n",
      "F1 Score: 75.95 %\n",
      "ROC score:  81.32 %\n"
     ]
    },
    {
     "data": {
      "image/png": "[encoded data removed]",
      "text/plain": [
       "<Figure size 300x300 with 2 Axes>"
      ]
     },
     "metadata": {},
     "output_type": "display_data"
    }
   ],
   "source": [
    "DTC = DecisionTreeClassifier()\n",
    "DTC.fit(X_train, y_train)\n",
    "predictions_DTC = DTC.predict(X_test)\n",
    "\n",
    "score('DTC',y_test,predictions_DTC)"
   ]
  },
  {
   "cell_type": "markdown",
   "id": "c911bcf0",
   "metadata": {},
   "source": [
    "# Random Forest Classifier"
   ]
  },
  {
   "cell_type": "code",
   "execution_count": 423,
   "id": "d925a31f",
   "metadata": {},
   "outputs": [
    {
     "name": "stdout",
     "output_type": "stream",
     "text": [
      "Model: RandomForest\n",
      "\n",
      "accuracy_LR: 93.58 %\n",
      "\n",
      "Precision:  94.44 %\n",
      "Recall score:  87.18 %\n",
      "F1 Score: 90.67 %\n",
      "ROC score:  92.16 %\n"
     ]
    },
    {
     "data": {
      "image/png": "[encoded data removed]",
      "text/plain": [
       "<Figure size 300x300 with 2 Axes>"
      ]
     },
     "metadata": {},
     "output_type": "display_data"
    }
   ],
   "source": [
    "RFC = RandomForestClassifier()\n",
    "RFC.fit(X_train, y_train)\n",
    "predictions_RFC = RFC.predict(X_test)\n",
    "\n",
    "score('RandomForest',y_test,predictions_RFC)"
   ]
  },
  {
   "cell_type": "markdown",
   "id": "26eaf0e5",
   "metadata": {},
   "source": [
    "# SVC"
   ]
  },
  {
   "cell_type": "code",
   "execution_count": 424,
   "id": "aa066e80",
   "metadata": {},
   "outputs": [
    {
     "name": "stdout",
     "output_type": "stream",
     "text": [
      "Model: SVC\n",
      "\n",
      "accuracy_LR: 79.82 %\n",
      "\n",
      "Precision:  79.31 %\n",
      "Recall score:  58.97 %\n",
      "F1 Score: 67.65 %\n",
      "ROC score:  75.2 %\n"
     ]
    },
    {
     "data": {
      "image/png": "[encoded data removed]",
      "text/plain": [
       "<Figure size 300x300 with 2 Axes>"
      ]
     },
     "metadata": {},
     "output_type": "display_data"
    }
   ],
   "source": [
    "SVC = SVC()\n",
    "SVC.fit(X_train, y_train)\n",
    "predictions_SVC = SVC.predict(X_test)\n",
    "\n",
    "score('SVC',y_test,predictions_SVC)"
   ]
  },
  {
   "cell_type": "markdown",
   "id": "c726363c",
   "metadata": {},
   "source": [
    "# Multinomial NB"
   ]
  },
  {
   "cell_type": "code",
   "execution_count": 425,
   "id": "d9c46e75",
   "metadata": {},
   "outputs": [
    {
     "name": "stdout",
     "output_type": "stream",
     "text": [
      "Model: MNB\n",
      "\n",
      "accuracy_LR: 81.65 %\n",
      "\n",
      "Precision:  67.27 %\n",
      "Recall score:  94.87 %\n",
      "F1 Score: 78.72 %\n",
      "ROC score:  84.58 %\n"
     ]
    },
    {
     "data": {
      "image/png": "[encoded data removed]",
      "text/plain": [
       "<Figure size 300x300 with 2 Axes>"
      ]
     },
     "metadata": {},
     "output_type": "display_data"
    }
   ],
   "source": [
    "MNB = MultinomialNB()\n",
    "MNB.fit(X_train, y_train)\n",
    "predictions_MNB = MNB.predict(X_test)\n",
    "\n",
    "score('MNB',y_test,predictions_MNB)"
   ]
  },
  {
   "cell_type": "markdown",
   "id": "ab2b752b",
   "metadata": {},
   "source": [
    "# MLP Classifier"
   ]
  },
  {
   "cell_type": "code",
   "execution_count": 426,
   "id": "eb284e31",
   "metadata": {},
   "outputs": [
    {
     "name": "stdout",
     "output_type": "stream",
     "text": [
      "Model: MLP\n",
      "\n",
      "accuracy_LR: 89.91 %\n",
      "\n",
      "Precision:  85.0 %\n",
      "Recall score:  87.18 %\n",
      "F1 Score: 86.08 %\n",
      "ROC score:  89.3 %\n"
     ]
    },
    {
     "data": {
      "image/png": "[encoded data removed]",
      "text/plain": [
       "<Figure size 300x300 with 2 Axes>"
      ]
     },
     "metadata": {},
     "output_type": "display_data"
    }
   ],
   "source": [
    "MLP = MLPClassifier(hidden_layer_sizes=(100, 50), max_iter=1000)\n",
    "MLP.fit(X_train, y_train)\n",
    "predictions_MLP = MLP.predict(X_test)\n",
    "\n",
    "score('MLP',y_test,predictions_MLP)"
   ]
  },
  {
   "cell_type": "markdown",
   "id": "1d9a50b8",
   "metadata": {},
   "source": [
    "# Linear SVC"
   ]
  },
  {
   "cell_type": "code",
   "execution_count": 427,
   "id": "d49d3de0",
   "metadata": {},
   "outputs": [
    {
     "name": "stdout",
     "output_type": "stream",
     "text": [
      "Model: LinearSVC\n",
      "\n",
      "accuracy_LR: 90.83 %\n",
      "\n",
      "Precision:  93.94 %\n",
      "Recall score:  79.49 %\n",
      "F1 Score: 86.11 %\n",
      "ROC score:  88.32 %\n"
     ]
    },
    {
     "name": "stderr",
     "output_type": "stream",
     "text": [
      "C:\\ProgramData\\anaconda3\\Lib\\site-packages\\sklearn\\svm\\_classes.py:32: FutureWarning: The default value of `dual` will change from `True` to `'auto'` in 1.5. Set the value of `dual` explicitly to suppress the warning.\n",
      "  warnings.warn(\n",
      "C:\\ProgramData\\anaconda3\\Lib\\site-packages\\sklearn\\svm\\_base.py:1242: ConvergenceWarning: Liblinear failed to converge, increase the number of iterations.\n",
      "  warnings.warn(\n"
     ]
    },
    {
     "data": {
      "image/png": "[encoded data removed]",
      "text/plain": [
       "<Figure size 300x300 with 2 Axes>"
      ]
     },
     "metadata": {},
     "output_type": "display_data"
    }
   ],
   "source": [
    "LSVC = LinearSVC()\n",
    "LSVC.fit(X_train, y_train)\n",
    "predictions_LSVC = LSVC.predict(X_test)\n",
    "\n",
    "score('LinearSVC',y_test,predictions_LSVC)"
   ]
  },
  {
   "cell_type": "markdown",
   "id": "327b2f61",
   "metadata": {},
   "source": [
    "# K Neighbors Classifier"
   ]
  },
  {
   "cell_type": "code",
   "execution_count": 428,
   "id": "512f871a",
   "metadata": {},
   "outputs": [
    {
     "name": "stdout",
     "output_type": "stream",
     "text": [
      "Model: KNN\n",
      "\n",
      "accuracy_LR: 82.57 %\n",
      "\n",
      "Precision:  79.41 %\n",
      "Recall score:  69.23 %\n",
      "F1 Score: 73.97 %\n",
      "ROC score:  79.62 %\n"
     ]
    },
    {
     "data": {
      "image/png": "[encoded data removed]",
      "text/plain": [
       "<Figure size 300x300 with 2 Axes>"
      ]
     },
     "metadata": {},
     "output_type": "display_data"
    }
   ],
   "source": [
    "KNN = KNeighborsClassifier()\n",
    "KNN.fit(X_train, y_train)\n",
    "predictions_KNN = KNN.predict(X_test)\n",
    "\n",
    "score('KNN',y_test,predictions_KNN)"
   ]
  },
  {
   "cell_type": "markdown",
   "id": "5da39607",
   "metadata": {},
   "source": [
    "# Gradient Boosting"
   ]
  },
  {
   "cell_type": "code",
   "execution_count": 429,
   "id": "4fe0dcab",
   "metadata": {},
   "outputs": [
    {
     "name": "stdout",
     "output_type": "stream",
     "text": [
      "Model: GBC\n",
      "\n",
      "accuracy_LR: 91.74 %\n",
      "\n",
      "Precision:  89.47 %\n",
      "Recall score:  87.18 %\n",
      "F1 Score: 88.31 %\n",
      "ROC score:  90.73 %\n"
     ]
    },
    {
     "data": {
      "image/png": "[encoded data removed]",
      "text/plain": [
       "<Figure size 300x300 with 2 Axes>"
      ]
     },
     "metadata": {},
     "output_type": "display_data"
    }
   ],
   "source": [
    "GBC = GradientBoostingClassifier()\n",
    "GBC.fit(X_train, y_train)\n",
    "predictions_GBC = GBC.predict(X_test)\n",
    "\n",
    "score('GBC',y_test,predictions_GBC)"
   ]
  },
  {
   "cell_type": "markdown",
   "id": "b32eda2a",
   "metadata": {},
   "source": [
    "# Extra Tree Classifier"
   ]
  },
  {
   "cell_type": "code",
   "execution_count": 430,
   "id": "548723d3",
   "metadata": {},
   "outputs": [
    {
     "name": "stdout",
     "output_type": "stream",
     "text": [
      "Model: ETC\n",
      "\n",
      "accuracy_LR: 90.83 %\n",
      "\n",
      "Precision:  91.43 %\n",
      "Recall score:  82.05 %\n",
      "F1 Score: 86.49 %\n",
      "ROC score:  88.88 %\n"
     ]
    },
    {
     "data": {
      "image/png": "[encoded data removed]",
      "text/plain": [
       "<Figure size 300x300 with 2 Axes>"
      ]
     },
     "metadata": {},
     "output_type": "display_data"
    }
   ],
   "source": [
    "ETC = ExtraTreesClassifier()\n",
    "ETC.fit(X_train, y_train)\n",
    "predictions_ETC = ETC.predict(X_test)\n",
    "\n",
    "score('ETC',y_test,predictions_ETC)"
   ]
  },
  {
   "cell_type": "markdown",
   "id": "fa4873ef",
   "metadata": {},
   "source": [
    "# BernoulliNB"
   ]
  },
  {
   "cell_type": "code",
   "execution_count": 431,
   "id": "08cbf098",
   "metadata": {},
   "outputs": [
    {
     "name": "stdout",
     "output_type": "stream",
     "text": [
      "Model: BNB\n",
      "\n",
      "accuracy_LR: 81.65 %\n",
      "\n",
      "Precision:  75.68 %\n",
      "Recall score:  71.79 %\n",
      "F1 Score: 73.68 %\n",
      "ROC score:  79.47 %\n"
     ]
    },
    {
     "data": {
      "image/png": "[encoded data removed]",
      "text/plain": [
       "<Figure size 300x300 with 2 Axes>"
      ]
     },
     "metadata": {},
     "output_type": "display_data"
    }
   ],
   "source": [
    "BNB = BernoulliNB()\n",
    "BNB.fit(X_train, y_train)\n",
    "predictions_BNB = BNB.predict(X_test)\n",
    "\n",
    "score('BNB',y_test,predictions_BNB)"
   ]
  },
  {
   "cell_type": "markdown",
   "id": "896d192f",
   "metadata": {},
   "source": [
    "# AdaBoost"
   ]
  },
  {
   "cell_type": "code",
   "execution_count": 432,
   "id": "98fb1aeb",
   "metadata": {},
   "outputs": [
    {
     "name": "stdout",
     "output_type": "stream",
     "text": [
      "Model: ABC\n",
      "\n",
      "accuracy_LR: 91.74 %\n",
      "\n",
      "Precision:  87.5 %\n",
      "Recall score:  89.74 %\n",
      "F1 Score: 88.61 %\n",
      "ROC score:  91.3 %\n"
     ]
    },
    {
     "data": {
      "image/png": "[encoded data removed]",
      "text/plain": [
       "<Figure size 300x300 with 2 Axes>"
      ]
     },
     "metadata": {},
     "output_type": "display_data"
    }
   ],
   "source": [
    "ABC = AdaBoostClassifier()\n",
    "ABC.fit(X_train, y_train)\n",
    "predictions_ABC = ABC.predict(X_test)\n",
    "\n",
    "score('ABC',y_test,predictions_ABC)"
   ]
  },
  {
   "cell_type": "markdown",
   "id": "e98146d2",
   "metadata": {},
   "source": [
    "# Accuracy comparison"
   ]
  },
  {
   "cell_type": "code",
   "execution_count": 433,
   "id": "1b7a7dce",
   "metadata": {},
   "outputs": [
    {
     "data": {
      "image/png": "[encoded data removed]",
      "text/plain": [
       "<Figure size 2000x1000 with 1 Axes>"
      ]
     },
     "metadata": {},
     "output_type": "display_data"
    }
   ],
   "source": [
    "plt.figure(figsize=(20, 10))\n",
    "bars = plt.bar(models, accuracy, color='teal', width=0.5)\n",
    "plt.ylim(50, 100)\n",
    "plt.grid(True, axis='y')\n",
    "\n",
    "# Add data labels (accuracy values) above each bar\n",
    "for bar, acc in zip(bars, accuracy):\n",
    "    height = bar.get_height()\n",
    "    plt.annotate(f'{acc:.2f}%',  # Format accuracy to two decimal places\n",
    "                 xy=(bar.get_x() + bar.get_width() / 2, height),\n",
    "                 xytext=(0, 3),  # Offset label above the bar\n",
    "                 textcoords=\"offset points\",\n",
    "                 ha='center', va='bottom', fontsize=10)\n",
    "\n",
    "plt.show()\n"
   ]
  },
  {
   "cell_type": "code",
   "execution_count": null,
   "id": "bb5de566",
   "metadata": {},
   "outputs": [],
   "source": []
  }
 ],
 "metadata": {
  "kernelspec": {
   "display_name": "Python 3 (ipykernel)",
   "language": "python",
   "name": "python3"
  },
  "language_info": {
   "codemirror_mode": {
    "name": "ipython",
    "version": 3
   },
   "file_extension": ".py",
   "mimetype": "text/x-python",
   "name": "python",
   "nbconvert_exporter": "python",
   "pygments_lexer": "ipython3",
   "version": "3.11.5"
  }
 },
 "nbformat": 4,
 "nbformat_minor": 5
}
