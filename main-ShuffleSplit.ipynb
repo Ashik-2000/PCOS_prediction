{
 "cells": [
  {
   "cell_type": "code",
   "execution_count": 28,
   "id": "c5e92e93",
   "metadata": {},
   "outputs": [],
   "source": [
    "# 0 = No\n",
    "# 1 = Yes"
   ]
  },
  {
   "cell_type": "code",
   "execution_count": 29,
   "id": "c27ca122",
   "metadata": {},
   "outputs": [],
   "source": [
    "import pandas as pd\n",
    "import numpy as np\n",
    "\n",
    "import matplotlib.pyplot as plt\n",
    "import seaborn as sb\n",
    "from sklearn.feature_selection import mutual_info_classif\n",
    "from sklearn.model_selection import train_test_split\n",
    "\n",
    "from sklearn.linear_model import LogisticRegression\n",
    "from sklearn.naive_bayes import GaussianNB\n",
    "from sklearn.tree import DecisionTreeClassifier\n",
    "from sklearn.ensemble import RandomForestClassifier\n",
    "from sklearn.svm import SVC\n",
    "from sklearn.naive_bayes import MultinomialNB\n",
    "from sklearn.neural_network import MLPClassifier\n",
    "from sklearn.svm import LinearSVC\n",
    "from sklearn.neighbors import KNeighborsClassifier\n",
    "from sklearn.ensemble import GradientBoostingClassifier\n",
    "from sklearn.ensemble import ExtraTreesClassifier\n",
    "from sklearn.naive_bayes import BernoulliNB\n",
    "from sklearn.ensemble import AdaBoostClassifier\n",
    "\n",
    "from sklearn.metrics import accuracy_score\n",
    "\n",
    "from sklearn import preprocessing"
   ]
  },
  {
   "cell_type": "code",
   "execution_count": 30,
   "id": "5ac79191",
   "metadata": {},
   "outputs": [],
   "source": [
    "data = pd.read_csv('PCOS_Final_Data.csv')"
   ]
  },
  {
   "cell_type": "code",
   "execution_count": 31,
   "id": "a7e75f87",
   "metadata": {},
   "outputs": [
    {
     "name": "stdout",
     "output_type": "stream",
     "text": [
      "<class 'pandas.core.frame.DataFrame'>\n",
      "RangeIndex: 541 entries, 0 to 540\n",
      "Data columns (total 45 columns):\n",
      " #   Column                  Non-Null Count  Dtype  \n",
      "---  ------                  --------------  -----  \n",
      " 0   Unnamed: 0              541 non-null    int64  \n",
      " 1   Sl. No                  541 non-null    int64  \n",
      " 2   Patient File No.        541 non-null    int64  \n",
      " 3   PCOS (Y/N)              541 non-null    int64  \n",
      " 4    Age (yrs)              541 non-null    int64  \n",
      " 5   Weight (Kg)             541 non-null    float64\n",
      " 6   Height(Cm)              541 non-null    float64\n",
      " 7   BMI                     541 non-null    float64\n",
      " 8   Blood Group             541 non-null    int64  \n",
      " 9   Pulse rate(bpm)         541 non-null    int64  \n",
      " 10  RR (breaths/min)        541 non-null    int64  \n",
      " 11  Hb(g/dl)                541 non-null    float64\n",
      " 12  Cycle(R/I)              541 non-null    int64  \n",
      " 13  Cycle length(days)      541 non-null    int64  \n",
      " 14  Marraige Status (Yrs)   541 non-null    float64\n",
      " 15  Pregnant(Y/N)           541 non-null    int64  \n",
      " 16  No. of aborptions       541 non-null    int64  \n",
      " 17  FSH(mIU/mL)             541 non-null    float64\n",
      " 18  LH(mIU/mL)              541 non-null    float64\n",
      " 19  FSH/LH                  541 non-null    float64\n",
      " 20  Hip(inch)               541 non-null    int64  \n",
      " 21  Waist(inch)             541 non-null    int64  \n",
      " 22  Waist:Hip Ratio         541 non-null    float64\n",
      " 23  TSH (mIU/L)             541 non-null    float64\n",
      " 24  AMH(ng/mL)              541 non-null    float64\n",
      " 25  PRL(ng/mL)              541 non-null    float64\n",
      " 26  Vit D3 (ng/mL)          541 non-null    float64\n",
      " 27  PRG(ng/mL)              541 non-null    float64\n",
      " 28  RBS(mg/dl)              541 non-null    float64\n",
      " 29  Weight gain(Y/N)        541 non-null    int64  \n",
      " 30  hair growth(Y/N)        541 non-null    int64  \n",
      " 31  Skin darkening (Y/N)    541 non-null    int64  \n",
      " 32  Hair loss(Y/N)          541 non-null    int64  \n",
      " 33  Pimples(Y/N)            541 non-null    int64  \n",
      " 34  Fast food (Y/N)         541 non-null    int64  \n",
      " 35  Reg.Exercise(Y/N)       541 non-null    int64  \n",
      " 36  BP _Systolic (mmHg)     541 non-null    int64  \n",
      " 37  BP _Diastolic (mmHg)    541 non-null    int64  \n",
      " 38  Follicle No. (L)        541 non-null    int64  \n",
      " 39  Follicle No. (R)        541 non-null    int64  \n",
      " 40  Avg. F size (L) (mm)    541 non-null    float64\n",
      " 41  Avg. F size (R) (mm)    541 non-null    float64\n",
      " 42  Endometrium (mm)        541 non-null    float64\n",
      " 43    I   beta-HCG(mIU/mL)  541 non-null    float64\n",
      " 44  II    beta-HCG(mIU/mL)  541 non-null    float64\n",
      "dtypes: float64(20), int64(25)\n",
      "memory usage: 190.3 KB\n"
     ]
    }
   ],
   "source": [
    "data.info()"
   ]
  },
  {
   "cell_type": "code",
   "execution_count": 32,
   "id": "ccfeda5a",
   "metadata": {},
   "outputs": [],
   "source": [
    "#There is a column without name,So, first naming it.\n",
    "data = data.rename(columns={'Unnamed: 0': 'index'})"
   ]
  },
  {
   "cell_type": "code",
   "execution_count": 33,
   "id": "b5509e85",
   "metadata": {},
   "outputs": [
    {
     "name": "stdout",
     "output_type": "stream",
     "text": [
      "<class 'pandas.core.frame.DataFrame'>\n",
      "RangeIndex: 541 entries, 0 to 540\n",
      "Data columns (total 45 columns):\n",
      " #   Column                  Non-Null Count  Dtype  \n",
      "---  ------                  --------------  -----  \n",
      " 0   index                   541 non-null    int64  \n",
      " 1   Sl. No                  541 non-null    int64  \n",
      " 2   Patient File No.        541 non-null    int64  \n",
      " 3   PCOS (Y/N)              541 non-null    int64  \n",
      " 4    Age (yrs)              541 non-null    int64  \n",
      " 5   Weight (Kg)             541 non-null    float64\n",
      " 6   Height(Cm)              541 non-null    float64\n",
      " 7   BMI                     541 non-null    float64\n",
      " 8   Blood Group             541 non-null    int64  \n",
      " 9   Pulse rate(bpm)         541 non-null    int64  \n",
      " 10  RR (breaths/min)        541 non-null    int64  \n",
      " 11  Hb(g/dl)                541 non-null    float64\n",
      " 12  Cycle(R/I)              541 non-null    int64  \n",
      " 13  Cycle length(days)      541 non-null    int64  \n",
      " 14  Marraige Status (Yrs)   541 non-null    float64\n",
      " 15  Pregnant(Y/N)           541 non-null    int64  \n",
      " 16  No. of aborptions       541 non-null    int64  \n",
      " 17  FSH(mIU/mL)             541 non-null    float64\n",
      " 18  LH(mIU/mL)              541 non-null    float64\n",
      " 19  FSH/LH                  541 non-null    float64\n",
      " 20  Hip(inch)               541 non-null    int64  \n",
      " 21  Waist(inch)             541 non-null    int64  \n",
      " 22  Waist:Hip Ratio         541 non-null    float64\n",
      " 23  TSH (mIU/L)             541 non-null    float64\n",
      " 24  AMH(ng/mL)              541 non-null    float64\n",
      " 25  PRL(ng/mL)              541 non-null    float64\n",
      " 26  Vit D3 (ng/mL)          541 non-null    float64\n",
      " 27  PRG(ng/mL)              541 non-null    float64\n",
      " 28  RBS(mg/dl)              541 non-null    float64\n",
      " 29  Weight gain(Y/N)        541 non-null    int64  \n",
      " 30  hair growth(Y/N)        541 non-null    int64  \n",
      " 31  Skin darkening (Y/N)    541 non-null    int64  \n",
      " 32  Hair loss(Y/N)          541 non-null    int64  \n",
      " 33  Pimples(Y/N)            541 non-null    int64  \n",
      " 34  Fast food (Y/N)         541 non-null    int64  \n",
      " 35  Reg.Exercise(Y/N)       541 non-null    int64  \n",
      " 36  BP _Systolic (mmHg)     541 non-null    int64  \n",
      " 37  BP _Diastolic (mmHg)    541 non-null    int64  \n",
      " 38  Follicle No. (L)        541 non-null    int64  \n",
      " 39  Follicle No. (R)        541 non-null    int64  \n",
      " 40  Avg. F size (L) (mm)    541 non-null    float64\n",
      " 41  Avg. F size (R) (mm)    541 non-null    float64\n",
      " 42  Endometrium (mm)        541 non-null    float64\n",
      " 43    I   beta-HCG(mIU/mL)  541 non-null    float64\n",
      " 44  II    beta-HCG(mIU/mL)  541 non-null    float64\n",
      "dtypes: float64(20), int64(25)\n",
      "memory usage: 190.3 KB\n"
     ]
    }
   ],
   "source": [
    "data.info()"
   ]
  },
  {
   "cell_type": "code",
   "execution_count": 34,
   "id": "c3a24577",
   "metadata": {},
   "outputs": [],
   "source": [
    "#Droping the columns which are not related to the output\n",
    "data = data.drop(['index','Sl. No','Patient File No.'],axis=1)"
   ]
  },
  {
   "cell_type": "code",
   "execution_count": 57,
   "id": "7b49c1b4",
   "metadata": {},
   "outputs": [
    {
     "name": "stdout",
     "output_type": "stream",
     "text": [
      "<class 'pandas.core.frame.DataFrame'>\n",
      "RangeIndex: 541 entries, 0 to 540\n",
      "Data columns (total 42 columns):\n",
      " #   Column                  Non-Null Count  Dtype  \n",
      "---  ------                  --------------  -----  \n",
      " 0   PCOS (Y/N)              541 non-null    int64  \n",
      " 1    Age (yrs)              541 non-null    int64  \n",
      " 2   Weight (Kg)             541 non-null    float64\n",
      " 3   Height(Cm)              541 non-null    float64\n",
      " 4   BMI                     541 non-null    float64\n",
      " 5   Blood Group             541 non-null    int64  \n",
      " 6   Pulse rate(bpm)         541 non-null    int64  \n",
      " 7   RR (breaths/min)        541 non-null    int64  \n",
      " 8   Hb(g/dl)                541 non-null    float64\n",
      " 9   Cycle(R/I)              541 non-null    int64  \n",
      " 10  Cycle length(days)      541 non-null    int64  \n",
      " 11  Marraige Status (Yrs)   541 non-null    float64\n",
      " 12  Pregnant(Y/N)           541 non-null    int64  \n",
      " 13  No. of aborptions       541 non-null    int64  \n",
      " 14  FSH(mIU/mL)             541 non-null    float64\n",
      " 15  LH(mIU/mL)              541 non-null    float64\n",
      " 16  FSH/LH                  541 non-null    float64\n",
      " 17  Hip(inch)               541 non-null    int64  \n",
      " 18  Waist(inch)             541 non-null    int64  \n",
      " 19  Waist:Hip Ratio         541 non-null    float64\n",
      " 20  TSH (mIU/L)             541 non-null    float64\n",
      " 21  AMH(ng/mL)              541 non-null    float64\n",
      " 22  PRL(ng/mL)              541 non-null    float64\n",
      " 23  Vit D3 (ng/mL)          541 non-null    float64\n",
      " 24  PRG(ng/mL)              541 non-null    float64\n",
      " 25  RBS(mg/dl)              541 non-null    float64\n",
      " 26  Weight gain(Y/N)        541 non-null    int64  \n",
      " 27  hair growth(Y/N)        541 non-null    int64  \n",
      " 28  Skin darkening (Y/N)    541 non-null    int64  \n",
      " 29  Hair loss(Y/N)          541 non-null    int64  \n",
      " 30  Pimples(Y/N)            541 non-null    int64  \n",
      " 31  Fast food (Y/N)         541 non-null    int64  \n",
      " 32  Reg.Exercise(Y/N)       541 non-null    int64  \n",
      " 33  BP _Systolic (mmHg)     541 non-null    int64  \n",
      " 34  BP _Diastolic (mmHg)    541 non-null    int64  \n",
      " 35  Follicle No. (L)        541 non-null    int64  \n",
      " 36  Follicle No. (R)        541 non-null    int64  \n",
      " 37  Avg. F size (L) (mm)    541 non-null    float64\n",
      " 38  Avg. F size (R) (mm)    541 non-null    float64\n",
      " 39  Endometrium (mm)        541 non-null    float64\n",
      " 40    I   beta-HCG(mIU/mL)  541 non-null    float64\n",
      " 41  II    beta-HCG(mIU/mL)  541 non-null    float64\n",
      "dtypes: float64(20), int64(22)\n",
      "memory usage: 177.6 KB\n"
     ]
    }
   ],
   "source": [
    "data.info()"
   ]
  },
  {
   "cell_type": "markdown",
   "id": "2efd60f0",
   "metadata": {},
   "source": [
    "# data Visualisation and analysis"
   ]
  },
  {
   "cell_type": "code",
   "execution_count": 36,
   "id": "0dc2b960",
   "metadata": {},
   "outputs": [],
   "source": [
    "#Separate the features (X) and the target variable (y)\n",
    "X = data.drop(columns='PCOS (Y/N)')  \n",
    "y = data['PCOS (Y/N)']  "
   ]
  },
  {
   "cell_type": "markdown",
   "id": "599719cb",
   "metadata": {},
   "source": [
    "# Applying Mutual info for finding better features from the dataset"
   ]
  },
  {
   "cell_type": "code",
   "execution_count": 37,
   "id": "4a29de8f",
   "metadata": {},
   "outputs": [],
   "source": [
    "# Compute mutual information between each feature and the target variable\n",
    "mutual_info = mutual_info_classif(X, y)"
   ]
  },
  {
   "cell_type": "code",
   "execution_count": 38,
   "id": "28592e8e",
   "metadata": {},
   "outputs": [
    {
     "data": {
      "text/plain": [
       "Follicle No. (L)          0.247690\n",
       "Follicle No. (R)          0.242181\n",
       "Cycle(R/I)                0.111067\n",
       "Skin darkening (Y/N)      0.097153\n",
       "Fast food (Y/N)           0.090434\n",
       "Weight gain(Y/N)          0.084117\n",
       "AMH(ng/mL)                0.076192\n",
       "Pimples(Y/N)              0.072126\n",
       "Cycle length(days)        0.069907\n",
       "hair growth(Y/N)          0.067038\n",
       "FSH/LH                    0.067007\n",
       "PRL(ng/mL)                0.064148\n",
       "Marraige Status (Yrs)     0.058319\n",
       "FSH(mIU/mL)               0.030081\n",
       "Pulse rate(bpm)           0.026002\n",
       "Waist:Hip Ratio           0.025066\n",
       "TSH (mIU/L)               0.023741\n",
       "Avg. F size (R) (mm)      0.021352\n",
       "BMI                       0.021100\n",
       " Age (yrs)                0.019879\n",
       "LH(mIU/mL)                0.018843\n",
       "PRG(ng/mL)                0.018602\n",
       "Weight (Kg)               0.016380\n",
       "Reg.Exercise(Y/N)         0.016356\n",
       "Vit D3 (ng/mL)            0.015689\n",
       "Hip(inch)                 0.014255\n",
       "  I   beta-HCG(mIU/mL)    0.009704\n",
       "Endometrium (mm)          0.009215\n",
       "Height(Cm)                0.006496\n",
       "Hair loss(Y/N)            0.004328\n",
       "RR (breaths/min)          0.000000\n",
       "Avg. F size (L) (mm)      0.000000\n",
       "Blood Group               0.000000\n",
       "Hb(g/dl)                  0.000000\n",
       "BP _Diastolic (mmHg)      0.000000\n",
       "BP _Systolic (mmHg)       0.000000\n",
       "Waist(inch)               0.000000\n",
       "Pregnant(Y/N)             0.000000\n",
       "No. of aborptions         0.000000\n",
       "RBS(mg/dl)                0.000000\n",
       "II    beta-HCG(mIU/mL)    0.000000\n",
       "dtype: float64"
      ]
     },
     "execution_count": 38,
     "metadata": {},
     "output_type": "execute_result"
    }
   ],
   "source": [
    "# Create a DataFrame to store feature names and their corresponding mutual information scores\n",
    "mi_scores = pd.Series(mutual_info, index=X.columns).sort_values(ascending=False)\n",
    "\n",
    "# Print the mutual information scores for each feature\n",
    "mi_scores"
   ]
  },
  {
   "cell_type": "code",
   "execution_count": 39,
   "id": "b0884207",
   "metadata": {},
   "outputs": [],
   "source": [
    "# Splitting the data into training and testing set\n",
    "# X_train, X_test, y_train, y_test = train_test_split(X, y, test_size=0.2)"
   ]
  },
  {
   "cell_type": "code",
   "execution_count": 40,
   "id": "3dc862d6",
   "metadata": {},
   "outputs": [],
   "source": [
    "from sklearn.model_selection import StratifiedShuffleSplit\n",
    "split = StratifiedShuffleSplit(n_splits=1, test_size=0.2)\n",
    "for train_part, test_part in split.split(data, data[['PCOS (Y/N)']]):\n",
    "    train_set = data.loc[train_part]\n",
    "    test_set = data.loc[test_part]"
   ]
  },
  {
   "cell_type": "code",
   "execution_count": 41,
   "id": "03c1c85e",
   "metadata": {},
   "outputs": [],
   "source": [
    "X_train = train_set.drop(columns='PCOS (Y/N)')  \n",
    "y_train = train_set['PCOS (Y/N)'] \n",
    "X_test = test_set.drop(columns='PCOS (Y/N)')\n",
    "y_test = test_set['PCOS (Y/N)']"
   ]
  },
  {
   "cell_type": "code",
   "execution_count": 42,
   "id": "16705833",
   "metadata": {},
   "outputs": [],
   "source": [
    "# Standard Scaler applying for better prediction\n",
    "x_train = preprocessing.StandardScaler().fit_transform(X_train)\n",
    "x_test = preprocessing.StandardScaler().fit_transform(X_test)"
   ]
  },
  {
   "cell_type": "markdown",
   "id": "8541b688",
   "metadata": {},
   "source": [
    "# Applying Machine Learning Models"
   ]
  },
  {
   "cell_type": "code",
   "execution_count": 43,
   "id": "54ee679b",
   "metadata": {},
   "outputs": [
    {
     "name": "stdout",
     "output_type": "stream",
     "text": [
      "Accuracy: 0.8256880733944955\n"
     ]
    },
    {
     "name": "stderr",
     "output_type": "stream",
     "text": [
      "C:\\ProgramData\\Anaconda3\\lib\\site-packages\\sklearn\\linear_model\\_logistic.py:814: ConvergenceWarning: lbfgs failed to converge (status=1):\n",
      "STOP: TOTAL NO. of ITERATIONS REACHED LIMIT.\n",
      "\n",
      "Increase the number of iterations (max_iter) or scale the data as shown in:\n",
      "    https://scikit-learn.org/stable/modules/preprocessing.html\n",
      "Please also refer to the documentation for alternative solver options:\n",
      "    https://scikit-learn.org/stable/modules/linear_model.html#logistic-regression\n",
      "  n_iter_i = _check_optimize_result(\n"
     ]
    }
   ],
   "source": [
    "model1 = LogisticRegression(random_state=0)\n",
    "\n",
    "model1.fit(X_train, y_train)\n",
    "\n",
    "\n",
    "y_pred = model1.predict(X_test)\n",
    "\n",
    "\n",
    "LogisticRegression = accuracy_score(y_test, y_pred)\n",
    "print(\"Accuracy:\", LogisticRegression)"
   ]
  },
  {
   "cell_type": "code",
   "execution_count": 44,
   "id": "de0e77d5",
   "metadata": {},
   "outputs": [
    {
     "name": "stdout",
     "output_type": "stream",
     "text": [
      "Accuracy: 85.3211009174312\n"
     ]
    }
   ],
   "source": [
    "model2 = GaussianNB()\n",
    "\n",
    "\n",
    "model2.fit(X_train, y_train)\n",
    "\n",
    "\n",
    "y_pred = model2.predict(X_test)\n",
    "\n",
    "\n",
    "GaussianNB = accuracy_score(y_test, y_pred)\n",
    "print(\"Accuracy:\", GaussianNB*100)"
   ]
  },
  {
   "cell_type": "code",
   "execution_count": 45,
   "id": "1f26d2c2",
   "metadata": {},
   "outputs": [
    {
     "name": "stdout",
     "output_type": "stream",
     "text": [
      "Accuracy: 81.65137614678899\n"
     ]
    }
   ],
   "source": [
    "model3 = DecisionTreeClassifier()\n",
    "\n",
    "\n",
    "model3.fit(X_train, y_train)\n",
    "\n",
    "\n",
    "y_pred = model3.predict(X_test)\n",
    "\n",
    "\n",
    "DecisionTreeClassifier = accuracy_score(y_test, y_pred)\n",
    "print(\"Accuracy:\", DecisionTreeClassifier*100)"
   ]
  },
  {
   "cell_type": "code",
   "execution_count": 46,
   "id": "d925a31f",
   "metadata": {},
   "outputs": [
    {
     "name": "stdout",
     "output_type": "stream",
     "text": [
      "Accuracy: 91.74311926605505\n"
     ]
    }
   ],
   "source": [
    "model4 = RandomForestClassifier()\n",
    "\n",
    "\n",
    "model4.fit(X_train, y_train)\n",
    "\n",
    "\n",
    "y_pred = model4.predict(X_test)\n",
    "\n",
    "\n",
    "RandomForestClassifier = accuracy_score(y_test, y_pred)\n",
    "print(\"Accuracy:\", RandomForestClassifier*100)"
   ]
  },
  {
   "cell_type": "code",
   "execution_count": 47,
   "id": "aa066e80",
   "metadata": {},
   "outputs": [
    {
     "name": "stdout",
     "output_type": "stream",
     "text": [
      "Accuracy: 0.6697247706422018\n"
     ]
    }
   ],
   "source": [
    "model5 = SVC()\n",
    "\n",
    "\n",
    "model5.fit(X_train, y_train)\n",
    "\n",
    "\n",
    "y_pred = model5.predict(X_test)\n",
    "\n",
    "\n",
    "SVC = accuracy_score(y_test, y_pred*100)\n",
    "print(\"Accuracy:\", SVC)"
   ]
  },
  {
   "cell_type": "code",
   "execution_count": 48,
   "id": "d9c46e75",
   "metadata": {},
   "outputs": [
    {
     "name": "stdout",
     "output_type": "stream",
     "text": [
      "Accuracy: 0.11926605504587157\n"
     ]
    }
   ],
   "source": [
    "model5 = MultinomialNB()\n",
    "\n",
    "\n",
    "model5.fit(X_train, y_train)\n",
    "\n",
    "\n",
    "y_pred = model5.predict(X_test)\n",
    "\n",
    "\n",
    "MultinomialNB = accuracy_score(y_test, y_pred*100)\n",
    "print(\"Accuracy:\", MultinomialNB)"
   ]
  },
  {
   "cell_type": "code",
   "execution_count": 49,
   "id": "eb284e31",
   "metadata": {},
   "outputs": [
    {
     "name": "stdout",
     "output_type": "stream",
     "text": [
      "Accuracy: 0.6697247706422018\n"
     ]
    }
   ],
   "source": [
    "model5 = MLPClassifier(hidden_layer_sizes=(100, 50), max_iter=1000)\n",
    "\n",
    "\n",
    "model5.fit(X_train, y_train)\n",
    "\n",
    "\n",
    "y_pred = model5.predict(X_test)\n",
    "\n",
    "\n",
    "MLPClassifier = accuracy_score(y_test, y_pred*100)\n",
    "print(\"Accuracy:\", MLPClassifier)"
   ]
  },
  {
   "cell_type": "code",
   "execution_count": 50,
   "id": "05706247",
   "metadata": {},
   "outputs": [
    {
     "name": "stdout",
     "output_type": "stream",
     "text": [
      "Accuracy: 0.5137614678899083\n"
     ]
    },
    {
     "name": "stderr",
     "output_type": "stream",
     "text": [
      "C:\\ProgramData\\Anaconda3\\lib\\site-packages\\sklearn\\svm\\_base.py:1206: ConvergenceWarning: Liblinear failed to converge, increase the number of iterations.\n",
      "  warnings.warn(\n"
     ]
    }
   ],
   "source": [
    "model5 = LinearSVC()\n",
    "\n",
    "\n",
    "model5.fit(X_train, y_train)\n",
    "\n",
    "\n",
    "y_pred = model5.predict(X_test)\n",
    "\n",
    "\n",
    "LinearSVC = accuracy_score(y_test, y_pred*100)\n",
    "print(\"Accuracy:\", LinearSVC)"
   ]
  },
  {
   "cell_type": "code",
   "execution_count": 51,
   "id": "512f871a",
   "metadata": {},
   "outputs": [
    {
     "name": "stdout",
     "output_type": "stream",
     "text": [
      "Accuracy: 0.5963302752293578\n"
     ]
    }
   ],
   "source": [
    "model5 = KNeighborsClassifier()\n",
    "\n",
    "\n",
    "model5.fit(X_train, y_train)\n",
    "\n",
    "\n",
    "y_pred = model5.predict(X_test)\n",
    "\n",
    "\n",
    "KNN = accuracy_score(y_test, y_pred*100)\n",
    "print(\"Accuracy:\", KNN)"
   ]
  },
  {
   "cell_type": "code",
   "execution_count": 52,
   "id": "4fe0dcab",
   "metadata": {},
   "outputs": [
    {
     "name": "stdout",
     "output_type": "stream",
     "text": [
      "Accuracy: 90.82568807339449\n"
     ]
    }
   ],
   "source": [
    "model5 = GradientBoostingClassifier()\n",
    "\n",
    "\n",
    "model5.fit(X_train, y_train)\n",
    "\n",
    "\n",
    "y_pred = model5.predict(X_test)\n",
    "\n",
    "\n",
    "GradientBoostingClassifier = accuracy_score(y_test, y_pred)\n",
    "print(\"Accuracy:\", GradientBoostingClassifier*100)"
   ]
  },
  {
   "cell_type": "code",
   "execution_count": 53,
   "id": "548723d3",
   "metadata": {},
   "outputs": [
    {
     "name": "stdout",
     "output_type": "stream",
     "text": [
      "Accuracy: 90.82568807339449\n"
     ]
    }
   ],
   "source": [
    "model5 = ExtraTreesClassifier()\n",
    "\n",
    "\n",
    "model5.fit(X_train, y_train)\n",
    "\n",
    "\n",
    "y_pred = model5.predict(X_test)\n",
    "\n",
    "\n",
    "ExtraTreesClassifier = accuracy_score(y_test, y_pred)\n",
    "print(\"Accuracy:\", ExtraTreesClassifier*100)"
   ]
  },
  {
   "cell_type": "code",
   "execution_count": 54,
   "id": "08cbf098",
   "metadata": {},
   "outputs": [
    {
     "name": "stdout",
     "output_type": "stream",
     "text": [
      "Accuracy: 83.4862385321101\n"
     ]
    }
   ],
   "source": [
    "model5 = BernoulliNB()\n",
    "\n",
    "\n",
    "model5.fit(X_train, y_train)\n",
    "\n",
    "\n",
    "y_pred = model5.predict(X_test)\n",
    "\n",
    "\n",
    "\n",
    "BernoulliNB = accuracy_score(y_test, y_pred)\n",
    "print(\"Accuracy:\", BernoulliNB*100)"
   ]
  },
  {
   "cell_type": "code",
   "execution_count": 55,
   "id": "98fb1aeb",
   "metadata": {},
   "outputs": [
    {
     "name": "stdout",
     "output_type": "stream",
     "text": [
      "Accuracy: 85.3211009174312\n"
     ]
    }
   ],
   "source": [
    "model5 = AdaBoostClassifier()\n",
    "\n",
    "\n",
    "model5.fit(X_train, y_train)\n",
    "\n",
    "\n",
    "y_pred = model5.predict(X_test)\n",
    "\n",
    "\n",
    "AdaBoostClassifier = accuracy_score(y_test, y_pred)\n",
    "print(\"Accuracy:\", AdaBoostClassifier*100)"
   ]
  },
  {
   "cell_type": "markdown",
   "id": "e98146d2",
   "metadata": {},
   "source": [
    "# Accuracy comparison"
   ]
  },
  {
   "cell_type": "code",
   "execution_count": 58,
   "id": "1b7a7dce",
   "metadata": {},
   "outputs": [
    {
     "data": {
      "image/png": "[encoded data removed]",
      "text/plain": [
       "<Figure size 1440x720 with 1 Axes>"
      ]
     },
     "metadata": {
      "needs_background": "light"
     },
     "output_type": "display_data"
    }
   ],
   "source": [
    "import numpy as np\n",
    "import matplotlib.pyplot as plt\n",
    "\n",
    "models = np.array(['LogisticRegression', 'GaussianNB', 'DecisionTree', 'RandomForest', 'SVC', 'MultinomialNB', 'MLP', 'LinearSVC', 'KNN', 'GradientBoost', 'ExtraTrees', 'BernoulliNB', 'AdaBoost'])\n",
    "accuracy = np.array([LogisticRegression, GaussianNB, DecisionTreeClassifier, RandomForestClassifier, SVC, MultinomialNB, MLPClassifier, LinearSVC, KNN, GradientBoostingClassifier, ExtraTreesClassifier, BernoulliNB, AdaBoostClassifier])\n",
    "\n",
    "plt.figure(figsize=(20, 10))\n",
    "bars = plt.bar(models, accuracy, color='teal', width=0.5)\n",
    "plt.ylim(0.5, 1)\n",
    "plt.grid(True, axis='y')\n",
    "\n",
    "# Add data labels (accuracy values) above each bar\n",
    "for bar, acc in zip(bars, accuracy):\n",
    "    height = bar.get_height()\n",
    "    plt.annotate(f'{acc:.2f}',  # Format accuracy to two decimal places\n",
    "                 xy=(bar.get_x() + bar.get_width() / 2, height),\n",
    "                 xytext=(0, 3),  # Offset label above the bar\n",
    "                 textcoords=\"offset points\",\n",
    "                 ha='center', va='bottom', fontsize=10)\n",
    "\n",
    "plt.show()\n"
   ]
  }
 ],
 "metadata": {
  "kernelspec": {
   "display_name": "Python 3 (ipykernel)",
   "language": "python",
   "name": "python3"
  },
  "language_info": {
   "codemirror_mode": {
    "name": "ipython",
    "version": 3
   },
   "file_extension": ".py",
   "mimetype": "text/x-python",
   "name": "python",
   "nbconvert_exporter": "python",
   "pygments_lexer": "ipython3",
   "version": "3.9.12"
  }
 },
 "nbformat": 4,
 "nbformat_minor": 5
}
